{
 "cells": [
  {
   "cell_type": "code",
   "execution_count": 2,
   "id": "eb99e70d",
   "metadata": {},
   "outputs": [
    {
     "name": "stdout",
     "output_type": "stream",
     "text": [
      "enter the lenght value :8\n",
      "enter the breadth value :9\n",
      "not square\n"
     ]
    }
   ],
   "source": [
    "#Take values of length and breadth of a rectangle from user and check if it is square or not.\n",
    "\n",
    "lenght = int(input(\"enter the lenght value :\"))\n",
    "breadth = int(input(\"enter the breadth value :\"))\n",
    "\n",
    "if (lenght == breadth):\n",
    "    print(\"square\")\n",
    "else:\n",
    "    print(\"not square\")\n"
   ]
  },
  {
   "cell_type": "code",
   "execution_count": 3,
   "id": "71b07139",
   "metadata": {},
   "outputs": [
    {
     "name": "stdout",
     "output_type": "stream",
     "text": [
      "Enter the first value :867\n",
      "Enter the second value :977\n",
      "b is greatest 977\n"
     ]
    }
   ],
   "source": [
    "# Take two int values from user and print greatest among them.\n",
    "\n",
    "a = int(input(\"Enter the first value :\"))\n",
    "b = int(input(\"Enter the second value :\"))\n",
    " \n",
    "if a>b:\n",
    "    print(\"a is greatest\",a)\n",
    "else:\n",
    "    print(\"b is greatest\",b)\n",
    "    "
   ]
  },
  {
   "cell_type": "code",
   "execution_count": 12,
   "id": "f8f91a18",
   "metadata": {},
   "outputs": [
    {
     "name": "stdout",
     "output_type": "stream",
     "text": [
      "Enter the purchased quantity :5000\n",
      "500.0\n"
     ]
    }
   ],
   "source": [
    "# A shop will give discount of 10% if the cost of purchased quantity is more than 1000.\n",
    "# Ask user for quantity\n",
    "# Suppose, one unit will cost 100.\n",
    "# Judge and print total cost for user.\n",
    "\n",
    "cost_of_purchase_quantity = int(input(\"Enter the purchased quantity :\"))\n",
    "\n",
    "if (cost_of_purchase_quantity)>1000:\n",
    "    discount = (cost_of_purchase_quantity*10)/100\n",
    "    print(discount)    "
   ]
  },
  {
   "cell_type": "code",
   "execution_count": 15,
   "id": "9ec140c5",
   "metadata": {},
   "outputs": [
    {
     "name": "stdout",
     "output_type": "stream",
     "text": [
      "Enetr students marks :34\n",
      "E Grade 34\n"
     ]
    }
   ],
   "source": [
    "# A school has following rules for grading system:\n",
    "# a. Below 25 - F\n",
    "# b. 25 to 45 - E\n",
    "# c. 45 to 50 - D\n",
    "# d. 50 to 60 - C\n",
    "# e. 60 to 80 - B\n",
    "# f. Above 80 - A\n",
    "# Ask user to enter marks and print the corresponding grade.\n",
    "\n",
    "marks = int(input(\"Enetr students marks :\"))\n",
    "\n",
    "if marks<25:\n",
    "    print(\"F Grade\",marks)\n",
    "elif marks>25 and marks<45:\n",
    "    print(\"E Grade\",marks)\n",
    "elif marks>45 and marks<50:\n",
    "    print(\"D Grade\",marks)\n",
    "elif marks>50 and marks<60:\n",
    "    print(\"C Grade\",marks)\n",
    "elif marks>60 and marks<80:\n",
    "    print(\"B Grade\",marks)\n",
    "elif marks>80:\n",
    "    print(\"A Grade\",marks)"
   ]
  },
  {
   "cell_type": "code",
   "execution_count": 20,
   "id": "bff7c85e",
   "metadata": {},
   "outputs": [
    {
     "name": "stdout",
     "output_type": "stream",
     "text": [
      "enter the year of service :4\n",
      "enter the salary amount :300000\n",
      "No Bonus\n"
     ]
    }
   ],
   "source": [
    "# A company decided to give bonus of 5% to employee if his/her year of service is more than 5 years.\n",
    "# Ask user for their salary and year of service and print the net bonus amount.\n",
    "\n",
    "year_of_service = int(input(\"enter the year of service :\"))\n",
    "salary = int(input(\"enter the salary amount :\"))\n",
    " \n",
    "if year_of_service >5:\n",
    "    bonus_amount = (salary*5)/100\n",
    "    print(\"Bonus amount\" ,bonus_amount)\n",
    "else:\n",
    "    print(\"No Bonus\")"
   ]
  },
  {
   "cell_type": "code",
   "execution_count": 25,
   "id": "8d4aaac1",
   "metadata": {},
   "outputs": [
    {
     "name": "stdout",
     "output_type": "stream",
     "text": [
      " input 1 : 1\n",
      " input 2 : -1\n",
      "output 1\n",
      "output -1\n"
     ]
    }
   ],
   "source": [
    "# Write a program to print absolute vlaue of a number entered by user. E.g.-\n",
    "# INPUT: 1        OUTPUT: 1\n",
    "# INPUT: -1        OUTPUT: 1\n",
    "\n",
    "input1 = int(input(\" input 1 : \" ))\n",
    "input2 = int(input(\" input 2 : \"))\n",
    "print(\"output\" ,input1)\n",
    "print(\"output\" ,input2)"
   ]
  },
  {
   "cell_type": "code",
   "execution_count": 41,
   "id": "eb93e408",
   "metadata": {},
   "outputs": [
    {
     "name": "stdout",
     "output_type": "stream",
     "text": [
      "45.0\n",
      "do you have any medical condition ? y\n",
      "Allowed\n"
     ]
    }
   ],
   "source": [
    "# A student will not be allowed to sit in exam if his/her attendence is less than 75%.\n",
    "# Take following input from user\n",
    "# Number of classes held\n",
    "# Number of classes attended.\n",
    "# And print\n",
    "# percentage of class attended\n",
    "# Is student is allowed to sit in exam or not.\n",
    "# Modify the above question to allow student to sit if he/she has medical cause. Ask user if \n",
    "# he/she has medical cause or not ( 'Y' or 'N' ) and print accordingly\n",
    "\n",
    "classes_held = 100\n",
    "classes_attend = 45\n",
    "per_of_attendence = (classes_attend /classes_held)*100 \n",
    "print(per_of_attendence)\n",
    "medical = input(\"do you have any medical condition ? \")\n",
    "if per_of_attendence > 75 or medical == 'y':\n",
    "    print(\"Allowed\")\n",
    "elif per_of_attendence < 75:\n",
    "    print(\"Not Allowed\")\n",
    "    "
   ]
  },
  {
   "cell_type": "code",
   "execution_count": 57,
   "id": "19fd702a",
   "metadata": {},
   "outputs": [
    {
     "name": "stdout",
     "output_type": "stream",
     "text": [
      "enter the number2\n",
      "prime 2\n"
     ]
    }
   ],
   "source": [
    "# pime number.......>\n",
    "\n",
    "num = int(input(\"enter the number\"))\n",
    "if num>1:\n",
    "    \n",
    "    for i in range(2,num):\n",
    "        if num%i==0:\n",
    "           \n",
    "            print(\"not prime\" ,num)\n",
    "            \n",
    "            break;\n",
    "    else:\n",
    "        print(\"prime\" , num)\n",
    "else:\n",
    "    print(\"not prime\" , num)\n",
    "\n",
    "        "
   ]
  },
  {
   "cell_type": "code",
   "execution_count": 23,
   "id": "7c81dcd4",
   "metadata": {},
   "outputs": [
    {
     "name": "stdout",
     "output_type": "stream",
     "text": [
      "enter the number4\n",
      "not prime\n"
     ]
    }
   ],
   "source": [
    "# prime number..........>\n",
    "\n",
    "x = int(input(\"enter the number\"))\n",
    "k = 0\n",
    "for i in range(1,x+1):\n",
    "    if(x%i) == 0:\n",
    "        k = k+1\n",
    "if(k==2):\n",
    "    print(\"prime number\")\n",
    "else:\n",
    "    print(\"not prime\")"
   ]
  },
  {
   "cell_type": "code",
   "execution_count": 4,
   "id": "7295849a",
   "metadata": {},
   "outputs": [
    {
     "name": "stdout",
     "output_type": "stream",
     "text": [
      "prime\n"
     ]
    }
   ],
   "source": [
    "num = 2\n",
    "\n",
    "if num>1:\n",
    "    for i in range (2,num):\n",
    "        if (num%i) == 0:\n",
    "            print(\"not prime\")\n",
    "            break;\n",
    "    else:\n",
    "        print(\"prime\")\n",
    "else:\n",
    "    print(\"not prime\")"
   ]
  },
  {
   "cell_type": "code",
   "execution_count": 24,
   "id": "eade4bf6",
   "metadata": {},
   "outputs": [
    {
     "name": "stdout",
     "output_type": "stream",
     "text": [
      "not prime\n"
     ]
    }
   ],
   "source": [
    "x = 10\n",
    "k = 0\n",
    "for i in range (1,x+1):\n",
    "    if (x%i) == 0:\n",
    "         k = k+1\n",
    "    \n",
    "if (k==2):\n",
    "    print(\"prime\")\n",
    "else:\n",
    "    print(\"not prime\")    "
   ]
  },
  {
   "cell_type": "code",
   "execution_count": 3,
   "id": "494b54eb",
   "metadata": {},
   "outputs": [
    {
     "ename": "SyntaxError",
     "evalue": "invalid syntax (Temp/ipykernel_13296/2657000823.py, line 5)",
     "output_type": "error",
     "traceback": [
      "\u001b[1;36m  File \u001b[1;32m\"C:\\Users\\VIKASH~1\\AppData\\Local\\Temp/ipykernel_13296/2657000823.py\"\u001b[1;36m, line \u001b[1;32m5\u001b[0m\n\u001b[1;33m    for i in range a:\u001b[0m\n\u001b[1;37m                   ^\u001b[0m\n\u001b[1;31mSyntaxError\u001b[0m\u001b[1;31m:\u001b[0m invalid syntax\n"
     ]
    }
   ],
   "source": [
    "# reverse........>\n",
    "\n",
    "a = 6576\n",
    "count = 0\n",
    "for i in range a:\n",
    "    if a//i ==0:\n",
    "        count = count+1\n",
    "        print()"
   ]
  },
  {
   "cell_type": "code",
   "execution_count": null,
   "id": "c64ba2ff",
   "metadata": {},
   "outputs": [],
   "source": [
    "a = 2365\n",
    "b = 0\n",
    "while a>0:\n",
    "    "
   ]
  },
  {
   "cell_type": "code",
   "execution_count": 3,
   "id": "05c15f53",
   "metadata": {},
   "outputs": [
    {
     "name": "stdout",
     "output_type": "stream",
     "text": [
      "Enter principal of amount :12000\n",
      "Enter the interest amount :120\n",
      "Enter the time value :2\n",
      "simple interest value : 28800.0\n",
      "total value : 30000.0\n"
     ]
    }
   ],
   "source": [
    "# simple interest..........>\n",
    "\n",
    "P = float(input(\"Enter principal of amount :\"))\n",
    "R = float(input(\"Enter the interest amount :\"))\n",
    "T = float(input(\"Enter the time value :\"))\n",
    "\n",
    "SI = ( P * R * T) / 100\n",
    "\n",
    "print(\"simple interest value :\", SI )\n",
    "print(\"total value :\",(p +SI ))"
   ]
  },
  {
   "cell_type": "markdown",
   "id": "2e043f61",
   "metadata": {},
   "source": [
    " "
   ]
  },
  {
   "cell_type": "code",
   "execution_count": 10,
   "id": "922adb6b",
   "metadata": {},
   "outputs": [
    {
     "name": "stdout",
     "output_type": "stream",
     "text": [
      "enter the principal value :1200000\n",
      "enter the rate value : 243\n",
      "enter the number value :43\n",
      "enter the time :20\n",
      "Compound interest  =  373604582.6752869\n",
      "Total amount =  374804582.6752869\n"
     ]
    }
   ],
   "source": [
    "# Compound interest..........>\n",
    "\n",
    "principal = float(input(\"enter the principal value :\"))\n",
    "rate = float(input(\"enter the rate value : \"))\n",
    "number = float(input(\"enter the number value :\"))\n",
    "time = float(input(\"enter the time :\"))\n",
    "\n",
    "rate = rate/100\n",
    "\n",
    "amount = principal * pow( 1 + (rate / number) , (number * rate))\n",
    "                      \n",
    "ci = amount - principal\n",
    "                      \n",
    "print( 'Compound interest  = ' , ci)\n",
    "print('Total amount = ', amount)"
   ]
  },
  {
   "cell_type": "code",
   "execution_count": null,
   "id": "f5c9583f",
   "metadata": {},
   "outputs": [],
   "source": [
    "#  squar root......>\n",
    "\n",
    "num = float(input(\"enter the value :\"))\n",
    "\n",
    "sqrt = num ** 0.5 \n",
    "print (\"squar root value is :\" , sqrt)"
   ]
  },
  {
   "cell_type": "code",
   "execution_count": null,
   "id": "1d4f2d0e",
   "metadata": {},
   "outputs": [],
   "source": []
  }
 ],
 "metadata": {
  "kernelspec": {
   "display_name": "Python 3 (ipykernel)",
   "language": "python",
   "name": "python3"
  },
  "language_info": {
   "codemirror_mode": {
    "name": "ipython",
    "version": 3
   },
   "file_extension": ".py",
   "mimetype": "text/x-python",
   "name": "python",
   "nbconvert_exporter": "python",
   "pygments_lexer": "ipython3",
   "version": "3.9.7"
  }
 },
 "nbformat": 4,
 "nbformat_minor": 5
}
