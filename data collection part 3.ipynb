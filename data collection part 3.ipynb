{
 "cells": [
  {
   "cell_type": "code",
   "execution_count": null,
   "id": "f1ba9843",
   "metadata": {},
   "outputs": [],
   "source": [
    "# list......> n no. of data..........\n",
    "# tuple------> n no. of data.........\n",
    "\n",
    "# list---->"
   ]
  },
  {
   "cell_type": "code",
   "execution_count": 1,
   "id": "98c54d4b",
   "metadata": {},
   "outputs": [
    {
     "data": {
      "text/plain": [
       "('1123', 'hello', 'bhai', 'kaise ho')"
      ]
     },
     "execution_count": 1,
     "metadata": {},
     "output_type": "execute_result"
    }
   ],
   "source": [
    "# tuple of string\n",
    "d = ('1123','hello','bhai','kaise ho')\n",
    "d"
   ]
  },
  {
   "cell_type": "code",
   "execution_count": 2,
   "id": "838554b0",
   "metadata": {},
   "outputs": [
    {
     "data": {
      "text/plain": [
       "tuple"
      ]
     },
     "execution_count": 2,
     "metadata": {},
     "output_type": "execute_result"
    }
   ],
   "source": [
    "type(d)"
   ]
  },
  {
   "cell_type": "code",
   "execution_count": 3,
   "id": "ca03e179",
   "metadata": {},
   "outputs": [
    {
     "data": {
      "text/plain": [
       "(23, 45, 6, 45.65, 65.89, 'python', 'hello world', True)"
      ]
     },
     "execution_count": 3,
     "metadata": {},
     "output_type": "execute_result"
    }
   ],
   "source": [
    "# mix----> int,string,.............\n",
    "x = (23,45,6,45.65,65.89,'python','hello world',True)\n",
    "x"
   ]
  },
  {
   "cell_type": "code",
   "execution_count": 4,
   "id": "55309044",
   "metadata": {},
   "outputs": [
    {
     "data": {
      "text/plain": [
       "tuple"
      ]
     },
     "execution_count": 4,
     "metadata": {},
     "output_type": "execute_result"
    }
   ],
   "source": [
    "type(x)"
   ]
  },
  {
   "cell_type": "code",
   "execution_count": 5,
   "id": "e405f6ef",
   "metadata": {},
   "outputs": [
    {
     "data": {
      "text/plain": [
       "(23, 45, 6, 45.65, 65.89, 'python', 'hello world', True)"
      ]
     },
     "execution_count": 5,
     "metadata": {},
     "output_type": "execute_result"
    }
   ],
   "source": [
    "x"
   ]
  },
  {
   "cell_type": "code",
   "execution_count": 10,
   "id": "b627e4d9",
   "metadata": {},
   "outputs": [
    {
     "name": "stdout",
     "output_type": "stream",
     "text": [
      "45.65\n"
     ]
    }
   ],
   "source": [
    "print(x[3])"
   ]
  },
  {
   "cell_type": "code",
   "execution_count": 12,
   "id": "8e9a831d",
   "metadata": {},
   "outputs": [
    {
     "data": {
      "text/plain": [
       "(45.65, 65.89, 'python')"
      ]
     },
     "execution_count": 12,
     "metadata": {},
     "output_type": "execute_result"
    }
   ],
   "source": [
    "x[3:6]"
   ]
  },
  {
   "cell_type": "code",
   "execution_count": 13,
   "id": "f5e08f58",
   "metadata": {},
   "outputs": [
    {
     "data": {
      "text/plain": [
       "(23, 45, 89.9, 34, 'python', 'SQL', False)"
      ]
     },
     "execution_count": 13,
     "metadata": {},
     "output_type": "execute_result"
    }
   ],
   "source": [
    "x = (23,45,89.9,34,'python','SQL',False)\n",
    "x"
   ]
  },
  {
   "cell_type": "code",
   "execution_count": 14,
   "id": "ad0210a4",
   "metadata": {},
   "outputs": [
    {
     "data": {
      "text/plain": [
       "(23, 89.9, 'python', False)"
      ]
     },
     "execution_count": 14,
     "metadata": {},
     "output_type": "execute_result"
    }
   ],
   "source": [
    "x[::2]"
   ]
  },
  {
   "cell_type": "code",
   "execution_count": 20,
   "id": "e66015ba",
   "metadata": {},
   "outputs": [
    {
     "data": {
      "text/plain": [
       "(23, 89.9, 'python', False)"
      ]
     },
     "execution_count": 20,
     "metadata": {},
     "output_type": "execute_result"
    }
   ],
   "source": [
    "x[0:7:2]"
   ]
  },
  {
   "cell_type": "code",
   "execution_count": 21,
   "id": "d3c2c852",
   "metadata": {},
   "outputs": [
    {
     "data": {
      "text/plain": [
       "(23, 45, 89.9, 34, 'python', 'SQL', False)"
      ]
     },
     "execution_count": 21,
     "metadata": {},
     "output_type": "execute_result"
    }
   ],
   "source": [
    "x"
   ]
  },
  {
   "cell_type": "code",
   "execution_count": 25,
   "id": "83de65ba",
   "metadata": {},
   "outputs": [
    {
     "data": {
      "text/plain": [
       "tuple"
      ]
     },
     "execution_count": 25,
     "metadata": {},
     "output_type": "execute_result"
    }
   ],
   "source": [
    "# a = ()\n",
    "b = (2,)\n",
    "type(b)"
   ]
  },
  {
   "cell_type": "code",
   "execution_count": 26,
   "id": "c22dc0be",
   "metadata": {},
   "outputs": [],
   "source": [
    "c = 34,45,4,5,6,4,4"
   ]
  },
  {
   "cell_type": "code",
   "execution_count": 27,
   "id": "852ddde9",
   "metadata": {},
   "outputs": [
    {
     "data": {
      "text/plain": [
       "(34, 45, 4, 5, 6, 4, 4)"
      ]
     },
     "execution_count": 27,
     "metadata": {},
     "output_type": "execute_result"
    }
   ],
   "source": [
    "c"
   ]
  },
  {
   "cell_type": "code",
   "execution_count": 28,
   "id": "974db6d6",
   "metadata": {},
   "outputs": [
    {
     "data": {
      "text/plain": [
       "tuple"
      ]
     },
     "execution_count": 28,
     "metadata": {},
     "output_type": "execute_result"
    }
   ],
   "source": [
    "type(c)"
   ]
  },
  {
   "cell_type": "code",
   "execution_count": 30,
   "id": "be46b9b8",
   "metadata": {},
   "outputs": [
    {
     "data": {
      "text/plain": [
       "7"
      ]
     },
     "execution_count": 30,
     "metadata": {},
     "output_type": "execute_result"
    }
   ],
   "source": [
    "len(c)"
   ]
  },
  {
   "cell_type": "code",
   "execution_count": 31,
   "id": "afae3e0f",
   "metadata": {},
   "outputs": [
    {
     "data": {
      "text/plain": [
       "4"
      ]
     },
     "execution_count": 31,
     "metadata": {},
     "output_type": "execute_result"
    }
   ],
   "source": [
    "min(c)"
   ]
  },
  {
   "cell_type": "code",
   "execution_count": 32,
   "id": "a1f1d1f6",
   "metadata": {},
   "outputs": [
    {
     "data": {
      "text/plain": [
       "45"
      ]
     },
     "execution_count": 32,
     "metadata": {},
     "output_type": "execute_result"
    }
   ],
   "source": [
    "max(c)"
   ]
  },
  {
   "cell_type": "code",
   "execution_count": 33,
   "id": "0b0d6fbb",
   "metadata": {},
   "outputs": [
    {
     "data": {
      "text/plain": [
       "list"
      ]
     },
     "execution_count": 33,
     "metadata": {},
     "output_type": "execute_result"
    }
   ],
   "source": [
    "# empty list\n",
    "a = []\n",
    "type(a)"
   ]
  },
  {
   "cell_type": "code",
   "execution_count": 34,
   "id": "6ccb1653",
   "metadata": {},
   "outputs": [
    {
     "data": {
      "text/plain": [
       "list"
      ]
     },
     "execution_count": 34,
     "metadata": {},
     "output_type": "execute_result"
    }
   ],
   "source": [
    "# single list\n",
    "x = [45]\n",
    "type(x)"
   ]
  },
  {
   "cell_type": "code",
   "execution_count": 36,
   "id": "988e7cfe",
   "metadata": {},
   "outputs": [
    {
     "name": "stdout",
     "output_type": "stream",
     "text": [
      "[12, 45, 89, 34, 78, 90]\n"
     ]
    },
    {
     "data": {
      "text/plain": [
       "list"
      ]
     },
     "execution_count": 36,
     "metadata": {},
     "output_type": "execute_result"
    }
   ],
   "source": [
    "a = ([12,45,89,34,78,90])\n",
    "print(a)\n",
    "type (a)\n"
   ]
  },
  {
   "cell_type": "code",
   "execution_count": 38,
   "id": "c701c24f",
   "metadata": {},
   "outputs": [
    {
     "data": {
      "text/plain": [
       "(12, 45, 89, [34, 78, 90])"
      ]
     },
     "execution_count": 38,
     "metadata": {},
     "output_type": "execute_result"
    }
   ],
   "source": [
    "a = (12,45,89,[34,78,90])\n",
    "a\n"
   ]
  },
  {
   "cell_type": "code",
   "execution_count": 45,
   "id": "97ce62da",
   "metadata": {},
   "outputs": [
    {
     "data": {
      "text/plain": [
       "(12, 45, 89, [34, 78, 900])"
      ]
     },
     "execution_count": 45,
     "metadata": {},
     "output_type": "execute_result"
    }
   ],
   "source": [
    "a[3][2] = 900\n",
    "a"
   ]
  },
  {
   "cell_type": "code",
   "execution_count": 48,
   "id": "785216f6",
   "metadata": {},
   "outputs": [
    {
     "data": {
      "text/plain": [
       "tuple"
      ]
     },
     "execution_count": 48,
     "metadata": {},
     "output_type": "execute_result"
    }
   ],
   "source": [
    "a = (1,2,6)\n",
    "type(a)"
   ]
  },
  {
   "cell_type": "code",
   "execution_count": 49,
   "id": "7823d731",
   "metadata": {},
   "outputs": [
    {
     "data": {
      "text/plain": [
       "(1, 2, 6, 2)"
      ]
     },
     "execution_count": 49,
     "metadata": {},
     "output_type": "execute_result"
    }
   ],
   "source": [
    "a = (1,2,6)\n",
    "b =(2,)\n",
    "c = a+b\n",
    "c"
   ]
  },
  {
   "cell_type": "code",
   "execution_count": 50,
   "id": "c4237d3c",
   "metadata": {},
   "outputs": [
    {
     "data": {
      "text/plain": [
       "(1, 2, 3, 3, 4, 5)"
      ]
     },
     "execution_count": 50,
     "metadata": {},
     "output_type": "execute_result"
    }
   ],
   "source": [
    "# concatenation\n",
    "a=(1,2,3)\n",
    "b=(3,4,5)\n",
    "c = a+b\n",
    "c"
   ]
  },
  {
   "cell_type": "code",
   "execution_count": 51,
   "id": "f334c545",
   "metadata": {},
   "outputs": [
    {
     "data": {
      "text/plain": [
       "(1, 2, 3, 1, 2, 3)"
      ]
     },
     "execution_count": 51,
     "metadata": {},
     "output_type": "execute_result"
    }
   ],
   "source": [
    "#repetation\n",
    "a = (1,2,3)\n",
    "a*2"
   ]
  },
  {
   "cell_type": "code",
   "execution_count": 55,
   "id": "053dd296",
   "metadata": {},
   "outputs": [
    {
     "data": {
      "text/plain": [
       "0"
      ]
     },
     "execution_count": 55,
     "metadata": {},
     "output_type": "execute_result"
    }
   ],
   "source": [
    "# methods in tuple\n",
    "# count\n",
    "# index\n",
    "\n",
    "x = [34,89,67,12,2,90,9,0,-2,23,45,0]\n",
    "x.count(1)"
   ]
  },
  {
   "cell_type": "code",
   "execution_count": 57,
   "id": "ee629a1c",
   "metadata": {},
   "outputs": [
    {
     "data": {
      "text/plain": [
       "[34, 89, 67, 12, 2, 90, 9, 0, -2, 23, 45, 0]"
      ]
     },
     "execution_count": 57,
     "metadata": {},
     "output_type": "execute_result"
    }
   ],
   "source": [
    "x"
   ]
  },
  {
   "cell_type": "code",
   "execution_count": 58,
   "id": "76c94bf5",
   "metadata": {},
   "outputs": [
    {
     "data": {
      "text/plain": [
       "4"
      ]
     },
     "execution_count": 58,
     "metadata": {},
     "output_type": "execute_result"
    }
   ],
   "source": [
    "# index\n",
    "x.index(2)"
   ]
  },
  {
   "cell_type": "code",
   "execution_count": 69,
   "id": "7a88345e",
   "metadata": {},
   "outputs": [
    {
     "data": {
      "text/plain": [
       "('r', 'a', 'm')"
      ]
     },
     "execution_count": 69,
     "metadata": {},
     "output_type": "execute_result"
    }
   ],
   "source": [
    "# string----->\n",
    "# convert a string into tuple.\n",
    "a = 'ram'\n",
    "b = tuple(a)\n",
    "\n",
    "type(b)\n",
    "b\n",
    "\n",
    "\n"
   ]
  },
  {
   "cell_type": "code",
   "execution_count": 72,
   "id": "1ad52cf2",
   "metadata": {},
   "outputs": [
    {
     "name": "stdout",
     "output_type": "stream",
     "text": [
      "('m', 'o', 'h', 'a', 'n', ' ', 'j', 'i', ' ', 'k', 'a', 'h', 'a', ' ', 'h', 'o')\n"
     ]
    }
   ],
   "source": [
    "a = 'mohan ji kaha ho'\n",
    "b = tuple(a)\n",
    "print(b)"
   ]
  },
  {
   "cell_type": "code",
   "execution_count": null,
   "id": "16b70471",
   "metadata": {},
   "outputs": [],
   "source": []
  }
 ],
 "metadata": {
  "kernelspec": {
   "display_name": "Python 3 (ipykernel)",
   "language": "python",
   "name": "python3"
  },
  "language_info": {
   "codemirror_mode": {
    "name": "ipython",
    "version": 3
   },
   "file_extension": ".py",
   "mimetype": "text/x-python",
   "name": "python",
   "nbconvert_exporter": "python",
   "pygments_lexer": "ipython3",
   "version": "3.9.7"
  }
 },
 "nbformat": 4,
 "nbformat_minor": 5
}
