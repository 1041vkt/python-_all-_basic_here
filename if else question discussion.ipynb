{
 "cells": [
  {
   "cell_type": "code",
   "execution_count": 9,
   "id": "7ed621bd",
   "metadata": {},
   "outputs": [
    {
     "name": "stdout",
     "output_type": "stream",
     "text": [
      "Enter the first person age: 12\n",
      "Enter the second person age: 32\n",
      "Enter the third person age: 45\n",
      "person 1   is oldest 12\n"
     ]
    }
   ],
   "source": [
    "person1 = int(input(\"Enter the first person age: \"))\n",
    "person2 = int(input(\"Enter the second person age: \"))\n",
    "person3 = int(input(\"Enter the third person age: \"))\n",
    "if a>b and a>c:\n",
    "    print(\"person 1   is oldest\",person1)\n",
    "elif b>a and b>c:\n",
    "    print(\"person 2  is oldest\",person2)\n",
    "else :\n",
    "    print(\"person 3 is oldest\",person3)"
   ]
  },
  {
   "cell_type": "code",
   "execution_count": null,
   "id": "573a0de5",
   "metadata": {},
   "outputs": [],
   "source": []
  },
  {
   "cell_type": "code",
   "execution_count": 12,
   "id": "4d1097fe",
   "metadata": {},
   "outputs": [
    {
     "name": "stdout",
     "output_type": "stream",
     "text": [
      "Enter the first person age12\n",
      "Enter the second person age23\n",
      "Enter the third person age45\n",
      "person3 is youngest 45\n"
     ]
    }
   ],
   "source": [
    "person1 = int(input(\"Enter the first person age\"))\n",
    "person2 = int(input(\"Enter the second person age\"))\n",
    "person3 = int(input(\"Enter the third person age\"))\n",
    "if a<b and a<c:\n",
    "    print(\"person1  is youngest\",person1)\n",
    "elif b<a and b<c:\n",
    "    print(\"person2  is youngest\",person2)\n",
    "else :\n",
    "    print(\"person3 is youngest\",person3)"
   ]
  },
  {
   "cell_type": "code",
   "execution_count": 22,
   "id": "049ab44e",
   "metadata": {},
   "outputs": [
    {
     "name": "stdout",
     "output_type": "stream",
     "text": [
      "B is max\n",
      "C is min\n"
     ]
    }
   ],
   "source": [
    "a=100\n",
    "b-50\n",
    "c=30\n",
    "if a>b and a>c:\n",
    "    print(\"A max\")\n",
    "elif b>a and b>c:\n",
    "    print(\"B is max\")\n",
    "elif c>a and c>b:\n",
    "    print(\"C is max\")\n",
    "# min\n",
    "if a<b and a<c:\n",
    "    print(\"A is min\")\n",
    "elif b<a and b<c:\n",
    "    print(\"B is min\")\n",
    "elif c<a and c<b:\n",
    "    print(\"C is min\")\n",
    "        "
   ]
  },
  {
   "cell_type": "code",
   "execution_count": 8,
   "id": "6cd139c6",
   "metadata": {},
   "outputs": [
    {
     "name": "stdout",
     "output_type": "stream",
     "text": [
      "a\n"
     ]
    },
    {
     "ename": "NameError",
     "evalue": "name 'C' is not defined",
     "output_type": "error",
     "traceback": [
      "\u001b[1;31m---------------------------------------------------------------------------\u001b[0m",
      "\u001b[1;31mNameError\u001b[0m                                 Traceback (most recent call last)",
      "\u001b[1;32mC:\\Users\\VIKASH~1\\AppData\\Local\\Temp/ipykernel_5740/2811045774.py\u001b[0m in \u001b[0;36m<module>\u001b[1;34m\u001b[0m\n\u001b[0;32m     13\u001b[0m \u001b[1;32melif\u001b[0m \u001b[0mb\u001b[0m\u001b[1;33m<\u001b[0m\u001b[0ma\u001b[0m \u001b[1;32mand\u001b[0m \u001b[0mb\u001b[0m\u001b[1;33m<\u001b[0m\u001b[0mc\u001b[0m\u001b[1;33m:\u001b[0m\u001b[1;33m\u001b[0m\u001b[1;33m\u001b[0m\u001b[0m\n\u001b[0;32m     14\u001b[0m     \u001b[0mprint\u001b[0m\u001b[1;33m(\u001b[0m\u001b[1;34m\"b is min\"\u001b[0m\u001b[1;33m)\u001b[0m\u001b[1;33m\u001b[0m\u001b[1;33m\u001b[0m\u001b[0m\n\u001b[1;32m---> 15\u001b[1;33m \u001b[1;32melif\u001b[0m \u001b[0mc\u001b[0m\u001b[1;33m<\u001b[0m\u001b[0ma\u001b[0m \u001b[1;32mand\u001b[0m \u001b[0mC\u001b[0m\u001b[1;33m<\u001b[0m\u001b[0mb\u001b[0m\u001b[1;33m:\u001b[0m\u001b[1;33m\u001b[0m\u001b[1;33m\u001b[0m\u001b[0m\n\u001b[0m\u001b[0;32m     16\u001b[0m \u001b[1;33m\u001b[0m\u001b[0m\n\u001b[0;32m     17\u001b[0m     \u001b[0mprint\u001b[0m\u001b[1;33m(\u001b[0m\u001b[1;34m\"c is min\"\u001b[0m\u001b[1;33m)\u001b[0m\u001b[1;33m\u001b[0m\u001b[1;33m\u001b[0m\u001b[0m\n",
      "\u001b[1;31mNameError\u001b[0m: name 'C' is not defined"
     ]
    }
   ],
   "source": [
    "a = 100\n",
    "b = 20\n",
    "c = 2\n",
    "if a>b and a>c:\n",
    "    print(\"a\")\n",
    "elif b>a and b>c:\n",
    "    print(\"b\")\n",
    "elif c>a and c>b:\n",
    "    print(\"c\")\n",
    "#min\n",
    "if a<b and a<c:\n",
    "    print(\"a is min\")\n",
    "elif b<a and b<c:\n",
    "    print(\"b is min\")\n",
    "elif c<a and C<b:\n",
    "     print(\"c is min\")"
   ]
  },
  {
   "cell_type": "code",
   "execution_count": 26,
   "id": "39b75c5c",
   "metadata": {},
   "outputs": [
    {
     "name": "stdout",
     "output_type": "stream",
     "text": [
      "90.0\n",
      "Allowed\n",
      "Do you have any medical condition : no\n",
      "not allowed\n"
     ]
    }
   ],
   "source": [
    "classes_held = 100\n",
    "classes_attend = 90\n",
    "per_of_classes_attend = (classes_held * classes_attend)/100\n",
    "print(per_of_classes_attend)\n",
    "if per_of_classes_attend > 75 :\n",
    "    print(\"Allowed\")  \n",
    "elif per_of_classes_attend>75:\n",
    "    print(\"Not Allowed\")\n",
    "\n",
    "con =input(\"Do you have any medical condition : \")    \n",
    "if con == 'True':\n",
    "    print('allowed')\n",
    "else:\n",
    "    print(\"not allowed\")"
   ]
  },
  {
   "cell_type": "code",
   "execution_count": 3,
   "id": "6234a56d",
   "metadata": {},
   "outputs": [
    {
     "name": "stdout",
     "output_type": "stream",
     "text": [
      "enter the classes_held number 100\n",
      "enter the classes_attend number45\n",
      "45.0\n",
      "do you have medical condition or not?y\n",
      "Allowed\n"
     ]
    }
   ],
   "source": [
    "classes_held = int(input(\"enter the classes_held number \"))\n",
    "classes_attend = int(input(\"enter the classes_attend number\"))\n",
    "per = (classes_attend / classes_held)*100\n",
    "print(per)\n",
    "medical = input(\"do you have medical condition or not?\")\n",
    "if per >75 or medical == 'y':\n",
    "    print(\"Allowed\")\n",
    "elif per<75 :\n",
    "    print(\"Not Allowed\")"
   ]
  },
  {
   "cell_type": "code",
   "execution_count": null,
   "id": "768436ca",
   "metadata": {},
   "outputs": [],
   "source": [
    "number_held=int(input(\"enter any value\"))\n",
    "number_attended=int(input(\"enter any value\"))\n",
    "percentage=(number_attended/number_held)*100\n",
    "print(percentage)\n",
    "medicalcause=input(\"enter any value\")\n",
    "if (percentage<75) and (medicalcause==\"N\"):\n",
    "    print(\"the student will not be allowed\")\n",
    "else:\n",
    "  print(\"the student will be allowed\")\n"
   ]
  },
  {
   "cell_type": "code",
   "execution_count": null,
   "id": "18992a3d",
   "metadata": {},
   "outputs": [],
   "source": [
    "#1.wap to print first 10 natural num.\n",
    "#2. wap to print -20 to 20.\n",
    "#3. calculate the sum of 1-10.\n",
    "#4.wap to count total number in a digit ?\n",
    "# number = 758669.\n",
    "# 5.print the number from -10 to -1.\n",
    "#6.wap to find the number is prime number or not?\n",
    "# 7.reverse the given integer----< 76452\n"
   ]
  },
  {
   "cell_type": "code",
   "execution_count": 8,
   "id": "c0d6b642",
   "metadata": {},
   "outputs": [
    {
     "name": "stdout",
     "output_type": "stream",
     "text": [
      "55\n"
     ]
    }
   ],
   "source": [
    "#1.wap to print first 10 natural num.\n",
    "sum = 0\n",
    "for i in range (1,11):\n",
    "    sum = sum +i\n",
    "print(sum)"
   ]
  },
  {
   "cell_type": "code",
   "execution_count": 9,
   "id": "43ce48aa",
   "metadata": {},
   "outputs": [
    {
     "name": "stdout",
     "output_type": "stream",
     "text": [
      "-20\n",
      "-19\n",
      "-18\n",
      "-17\n",
      "-16\n",
      "-15\n",
      "-14\n",
      "-13\n",
      "-12\n",
      "-11\n",
      "-10\n",
      "-9\n",
      "-8\n",
      "-7\n",
      "-6\n",
      "-5\n",
      "-4\n",
      "-3\n",
      "-2\n",
      "-1\n",
      "0\n",
      "1\n",
      "2\n",
      "3\n",
      "4\n",
      "5\n",
      "6\n",
      "7\n",
      "8\n",
      "9\n",
      "10\n",
      "11\n",
      "12\n",
      "13\n",
      "14\n",
      "15\n",
      "16\n",
      "17\n",
      "18\n",
      "19\n",
      "20\n"
     ]
    }
   ],
   "source": [
    "#2. wap to print -20 to 20.\n",
    "\n",
    "for i in range (-20,21):\n",
    "    print(i)\n",
    "    "
   ]
  },
  {
   "cell_type": "code",
   "execution_count": 11,
   "id": "57919555",
   "metadata": {},
   "outputs": [
    {
     "name": "stdout",
     "output_type": "stream",
     "text": [
      "sum of 1-10-------> 55\n"
     ]
    }
   ],
   "source": [
    "#3. calculate the sum of 1-10.\n",
    "\n",
    "sum = 0\n",
    "for i in range (1,11):\n",
    "    sum = sum+i\n",
    "print(\"sum of 1-10------->\",sum)"
   ]
  },
  {
   "cell_type": "code",
   "execution_count": null,
   "id": "fc0abf45",
   "metadata": {},
   "outputs": [],
   "source": [
    "#4.wap to count total number in a digit ?\n",
    "# number = 758669.\n",
    "\n",
    "number = 758669\n",
    "count = 0\n",
    "for i in range num:\n",
    "    "
   ]
  },
  {
   "cell_type": "code",
   "execution_count": null,
   "id": "b16b9268",
   "metadata": {},
   "outputs": [],
   "source": [
    "n = 467\n",
    "a = 0\n",
    "while n>0:\n",
    "    a=a+1\n",
    "    n = n//10\n",
    "print(\"Total number of digit in n is ---->\",a)"
   ]
  },
  {
   "cell_type": "code",
   "execution_count": 15,
   "id": "e848cd08",
   "metadata": {},
   "outputs": [
    {
     "name": "stdout",
     "output_type": "stream",
     "text": [
      "Enter the number2\n",
      "prime number 2\n"
     ]
    }
   ],
   "source": [
    "#prime number\n",
    "num = int(input(\"Enter the number\"))\n",
    "if num>1:\n",
    "    for i in range (2,num):\n",
    "        if num%i==0:\n",
    "            print(\"not prime\",num)\n",
    "            break;\n",
    "    else:\n",
    "        print('prime number',num)\n",
    "            \n",
    "else:\n",
    "    print(\"not prime number\",num)"
   ]
  },
  {
   "cell_type": "code",
   "execution_count": null,
   "id": "945692bc",
   "metadata": {},
   "outputs": [],
   "source": []
  },
  {
   "cell_type": "code",
   "execution_count": null,
   "id": "ddef8cdd",
   "metadata": {},
   "outputs": [],
   "source": []
  },
  {
   "cell_type": "code",
   "execution_count": null,
   "id": "3be59bf0",
   "metadata": {},
   "outputs": [],
   "source": []
  },
  {
   "cell_type": "code",
   "execution_count": null,
   "id": "0b205e1f",
   "metadata": {},
   "outputs": [],
   "source": []
  }
 ],
 "metadata": {
  "kernelspec": {
   "display_name": "Python 3 (ipykernel)",
   "language": "python",
   "name": "python3"
  },
  "language_info": {
   "codemirror_mode": {
    "name": "ipython",
    "version": 3
   },
   "file_extension": ".py",
   "mimetype": "text/x-python",
   "name": "python",
   "nbconvert_exporter": "python",
   "pygments_lexer": "ipython3",
   "version": "3.9.7"
  }
 },
 "nbformat": 4,
 "nbformat_minor": 5
}
