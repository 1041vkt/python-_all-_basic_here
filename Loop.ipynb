{
 "cells": [
  {
   "cell_type": "code",
   "execution_count": 11,
   "id": "7fd048fb",
   "metadata": {},
   "outputs": [
    {
     "name": "stdout",
     "output_type": "stream",
     "text": [
      "100\n",
      "200\n",
      "300\n",
      "400\n",
      "500\n",
      "600\n",
      "700\n",
      "800\n",
      "900\n",
      "1000\n"
     ]
    }
   ],
   "source": [
    "x=1\n",
    "table = 100\n",
    "while x<11:\n",
    "    print(x*table)\n",
    "    x+=1\n",
    "    "
   ]
  },
  {
   "cell_type": "code",
   "execution_count": 5,
   "id": "4c416bc1",
   "metadata": {},
   "outputs": [
    {
     "name": "stdout",
     "output_type": "stream",
     "text": [
      "1\n",
      "2\n",
      "3\n",
      "4\n",
      "5\n",
      "6\n",
      "7\n",
      "8\n",
      "9\n",
      "10\n",
      "sum of 1-10 is :- 65\n"
     ]
    }
   ],
   "source": [
    "#Wap to print 10 natural no. using loop.\n",
    "\n",
    "#wap to sum all number from 1-10.\n",
    "\n",
    "#wap to print the table of 7.\n",
    "x=1\n",
    "s=0\n",
    "while x<11:\n",
    "    print(x)\n",
    "    x+=1\n",
    "    s=s+x\n",
    "print(\"sum of 1-10 is :-\",s)    "
   ]
  },
  {
   "cell_type": "code",
   "execution_count": 17,
   "id": "5c8bc831",
   "metadata": {},
   "outputs": [
    {
     "name": "stdout",
     "output_type": "stream",
     "text": [
      "55\n"
     ]
    }
   ],
   "source": [
    "i=1\n",
    "sum=0\n",
    "while i<11:\n",
    "    sum=sum+i\n",
    "    i=i+1\n",
    "\n",
    "print(sum)    "
   ]
  },
  {
   "cell_type": "code",
   "execution_count": null,
   "id": "c023fafb",
   "metadata": {},
   "outputs": [],
   "source": []
  }
 ],
 "metadata": {
  "kernelspec": {
   "display_name": "Python 3 (ipykernel)",
   "language": "python",
   "name": "python3"
  },
  "language_info": {
   "codemirror_mode": {
    "name": "ipython",
    "version": 3
   },
   "file_extension": ".py",
   "mimetype": "text/x-python",
   "name": "python",
   "nbconvert_exporter": "python",
   "pygments_lexer": "ipython3",
   "version": "3.9.7"
  }
 },
 "nbformat": 4,
 "nbformat_minor": 5
}
