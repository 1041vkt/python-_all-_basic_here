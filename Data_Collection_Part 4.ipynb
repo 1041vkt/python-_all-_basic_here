{
 "cells": [
  {
   "cell_type": "code",
   "execution_count": 9,
   "id": "de674ebe",
   "metadata": {},
   "outputs": [
    {
     "data": {
      "text/plain": [
       "{'name': 'radha', 'age': 21, 'sallary': 40000}"
      ]
     },
     "execution_count": 9,
     "metadata": {},
     "output_type": "execute_result"
    }
   ],
   "source": [
    "# list\n",
    "# tuple\n",
    "# dict\n",
    "\n",
    "x = {\n",
    "    'name' : \"radha\",\n",
    "    'age' : 21,\n",
    "    'sallary': 40000\n",
    "}\n",
    "x"
   ]
  },
  {
   "cell_type": "code",
   "execution_count": null,
   "id": "3340d9e0",
   "metadata": {},
   "outputs": [],
   "source": [
    "#slicing with the indexing...\n",
    "x['sallary']\n",
    "x\n"
   ]
  },
  {
   "cell_type": "code",
   "execution_count": 11,
   "id": "e893df37",
   "metadata": {},
   "outputs": [
    {
     "data": {
      "text/plain": [
       "21"
      ]
     },
     "execution_count": 11,
     "metadata": {},
     "output_type": "execute_result"
    }
   ],
   "source": [
    "x['age']"
   ]
  },
  {
   "cell_type": "code",
   "execution_count": 12,
   "id": "00cfc585",
   "metadata": {},
   "outputs": [
    {
     "name": "stdout",
     "output_type": "stream",
     "text": [
      "a\n"
     ]
    }
   ],
   "source": [
    "print(x[\"name\"][1][0:3]) \n"
   ]
  },
  {
   "cell_type": "code",
   "execution_count": 15,
   "id": "1cc6bce4",
   "metadata": {},
   "outputs": [
    {
     "data": {
      "text/plain": [
       "40000"
      ]
     },
     "execution_count": 15,
     "metadata": {},
     "output_type": "execute_result"
    }
   ],
   "source": [
    "#slicing with the indexing...\n",
    "x['sallary']"
   ]
  },
  {
   "cell_type": "code",
   "execution_count": 16,
   "id": "08cf0030",
   "metadata": {},
   "outputs": [
    {
     "data": {
      "text/plain": [
       "{'name': 'vikash', 'age': 21, 'sallary': 40000}"
      ]
     },
     "execution_count": 16,
     "metadata": {},
     "output_type": "execute_result"
    }
   ],
   "source": [
    "# mutable & immutable\n",
    "x['name'] = 'vikash'\n",
    "x"
   ]
  },
  {
   "cell_type": "code",
   "execution_count": 29,
   "id": "b49f97cd",
   "metadata": {},
   "outputs": [
    {
     "data": {
      "text/plain": [
       "{'name': ['radha', 'mohan', 'sohan'],\n",
       " 'age': [43, 21, 23],\n",
       " 'sallary': (40000, 4500)}"
      ]
     },
     "execution_count": 29,
     "metadata": {},
     "output_type": "execute_result"
    }
   ],
   "source": [
    "x = {\n",
    "    'name' : [\"radha\",'mohan','sohan'],\n",
    "    'age' : [43,21,23] ,\n",
    "    'sallary': (40000,4500),\n",
    "}\n",
    "x"
   ]
  },
  {
   "cell_type": "code",
   "execution_count": 32,
   "id": "14aee44d",
   "metadata": {},
   "outputs": [
    {
     "data": {
      "text/plain": [
       "['mohan', 'sohan']"
      ]
     },
     "execution_count": 32,
     "metadata": {},
     "output_type": "execute_result"
    }
   ],
   "source": [
    "x['name'][1:3]"
   ]
  },
  {
   "cell_type": "markdown",
   "id": "71e00025",
   "metadata": {},
   "source": []
  },
  {
   "cell_type": "code",
   "execution_count": null,
   "id": "327f6ddb",
   "metadata": {},
   "outputs": [],
   "source": [
    "# mutable &immutable\n",
    "x['name'] = 'xyz'\n"
   ]
  },
  {
   "cell_type": "code",
   "execution_count": 33,
   "id": "bc5ce782",
   "metadata": {},
   "outputs": [
    {
     "data": {
      "text/plain": [
       "{'name': ['radha', 'mohan', 'sohan'],\n",
       " 'age': [43, 21, 23],\n",
       " 'sallary': (40000, 4500)}"
      ]
     },
     "execution_count": 33,
     "metadata": {},
     "output_type": "execute_result"
    }
   ],
   "source": [
    "x"
   ]
  },
  {
   "cell_type": "code",
   "execution_count": 36,
   "id": "632565c3",
   "metadata": {},
   "outputs": [
    {
     "data": {
      "text/plain": [
       "{'name': ['ABC', 'Shobhit', 'Akash'],\n",
       " 'age': [34, 45, 56],\n",
       " 'salary': [40000, 30]}"
      ]
     },
     "execution_count": 36,
     "metadata": {},
     "output_type": "execute_result"
    }
   ],
   "source": [
    "x = {\n",
    "    'name' : ['ABC','Shobhit','Akash'],\n",
    "    'age' : [34,45,56],\n",
    "    'salary' : [40000 ,30]\n",
    "    \n",
    "}\n",
    "x"
   ]
  },
  {
   "cell_type": "code",
   "execution_count": 37,
   "id": "536f0b8d",
   "metadata": {},
   "outputs": [
    {
     "data": {
      "text/plain": [
       "['ABC', 'Shobhit', 'Akash']"
      ]
     },
     "execution_count": 37,
     "metadata": {},
     "output_type": "execute_result"
    }
   ],
   "source": [
    "x['name']"
   ]
  },
  {
   "cell_type": "code",
   "execution_count": 38,
   "id": "75061778",
   "metadata": {},
   "outputs": [
    {
     "data": {
      "text/plain": [
       "['Shobhit', 'Akash']"
      ]
     },
     "execution_count": 38,
     "metadata": {},
     "output_type": "execute_result"
    }
   ],
   "source": [
    "x['name'][1:]"
   ]
  },
  {
   "cell_type": "code",
   "execution_count": 39,
   "id": "d0336149",
   "metadata": {},
   "outputs": [
    {
     "data": {
      "text/plain": [
       "[34, 45, 56]"
      ]
     },
     "execution_count": 39,
     "metadata": {},
     "output_type": "execute_result"
    }
   ],
   "source": [
    "x['age']"
   ]
  },
  {
   "cell_type": "code",
   "execution_count": 40,
   "id": "764015b1",
   "metadata": {},
   "outputs": [
    {
     "data": {
      "text/plain": [
       "45"
      ]
     },
     "execution_count": 40,
     "metadata": {},
     "output_type": "execute_result"
    }
   ],
   "source": [
    "x['age'][1]"
   ]
  },
  {
   "cell_type": "code",
   "execution_count": 42,
   "id": "a81fbbd0",
   "metadata": {},
   "outputs": [
    {
     "data": {
      "text/plain": [
       "{'name': 4, 'age': [34, 45, 56], 'salary': [40000, 30]}"
      ]
     },
     "execution_count": 42,
     "metadata": {},
     "output_type": "execute_result"
    }
   ],
   "source": [
    "x['name'] = 4 \n",
    "x"
   ]
  },
  {
   "cell_type": "code",
   "execution_count": 43,
   "id": "90fddb01",
   "metadata": {},
   "outputs": [
    {
     "data": {
      "text/plain": [
       "4"
      ]
     },
     "execution_count": 43,
     "metadata": {},
     "output_type": "execute_result"
    }
   ],
   "source": [
    "x['name']\n"
   ]
  },
  {
   "cell_type": "code",
   "execution_count": 48,
   "id": "7154d462",
   "metadata": {},
   "outputs": [
    {
     "data": {
      "text/plain": [
       "{'name': ['radha', 'mohan', 'sohan'],\n",
       " 'age': (43, 21, 23),\n",
       " 'sallary': (40000, 4500)}"
      ]
     },
     "execution_count": 48,
     "metadata": {},
     "output_type": "execute_result"
    }
   ],
   "source": [
    "x = {\n",
    "    'name' : [\"radha\",'mohan','sohan'],\n",
    "    'age' : (43,21,23) ,\n",
    "    'sallary': (40000,4500),\n",
    "}\n",
    "x"
   ]
  },
  {
   "cell_type": "code",
   "execution_count": 49,
   "id": "30f8c60c",
   "metadata": {},
   "outputs": [
    {
     "data": {
      "text/plain": [
       "{'name': ['radha', 'bhai likhna band kar bhai', 'sohan'],\n",
       " 'age': (43, 21, 23),\n",
       " 'sallary': (40000, 4500)}"
      ]
     },
     "execution_count": 49,
     "metadata": {},
     "output_type": "execute_result"
    }
   ],
   "source": [
    "x['name'][1]='bhai likhna band kar bhai'\n",
    "x"
   ]
  },
  {
   "cell_type": "code",
   "execution_count": 50,
   "id": "1ec38b3d",
   "metadata": {},
   "outputs": [
    {
     "ename": "TypeError",
     "evalue": "'tuple' object does not support item assignment",
     "output_type": "error",
     "traceback": [
      "\u001b[1;31m---------------------------------------------------------------------------\u001b[0m",
      "\u001b[1;31mTypeError\u001b[0m                                 Traceback (most recent call last)",
      "\u001b[1;32mC:\\Users\\VIKASH~1\\AppData\\Local\\Temp/ipykernel_16200/1936935585.py\u001b[0m in \u001b[0;36m<module>\u001b[1;34m\u001b[0m\n\u001b[1;32m----> 1\u001b[1;33m \u001b[0mx\u001b[0m\u001b[1;33m[\u001b[0m\u001b[1;34m'age'\u001b[0m\u001b[1;33m]\u001b[0m\u001b[1;33m[\u001b[0m\u001b[1;36m2\u001b[0m\u001b[1;33m]\u001b[0m \u001b[1;33m=\u001b[0m \u001b[1;36m45\u001b[0m\u001b[1;33m\u001b[0m\u001b[1;33m\u001b[0m\u001b[0m\n\u001b[0m\u001b[0;32m      2\u001b[0m \u001b[0mx\u001b[0m\u001b[1;33m\u001b[0m\u001b[1;33m\u001b[0m\u001b[0m\n",
      "\u001b[1;31mTypeError\u001b[0m: 'tuple' object does not support item assignment"
     ]
    }
   ],
   "source": [
    "x['age'][2] = 45\n",
    "x"
   ]
  },
  {
   "cell_type": "code",
   "execution_count": 53,
   "id": "ea58c884",
   "metadata": {},
   "outputs": [
    {
     "data": {
      "text/plain": [
       "{'name': 'Mohan',\n",
       " 'age': 34,\n",
       " 'salary': 34892,\n",
       " 0: 0,\n",
       " 'z': {'number': 123, 'add': 'UP', 0: 'hello'}}"
      ]
     },
     "execution_count": 53,
     "metadata": {},
     "output_type": "execute_result"
    }
   ],
   "source": [
    "# Let's make a Dict inside a dict..\n",
    "x = {\n",
    "    'name' : 'Mohan',\n",
    "    'age' : 34,\n",
    "    'salary':34892,\n",
    "    \n",
    "    'z' : {\n",
    "           'number' : 123,\n",
    "            'add':'UP',\n",
    "        \n",
    "    }\n",
    "}\n",
    "x"
   ]
  },
  {
   "cell_type": "code",
   "execution_count": 55,
   "id": "5eceb15d",
   "metadata": {},
   "outputs": [
    {
     "data": {
      "text/plain": [
       "{'name': 'Mohan',\n",
       " 'age': 34,\n",
       " 'salary': 34892,\n",
       " 0: 0,\n",
       " 'z': {'number': 123, 'add': 'UP', 0: 'hello'}}"
      ]
     },
     "execution_count": 55,
     "metadata": {},
     "output_type": "execute_result"
    }
   ],
   "source": [
    "x = {\n",
    "    'name' : 'Mohan',\n",
    "    'age' : 34,\n",
    "    'salary':34892,\n",
    "    0:0,\n",
    "    \n",
    "    'z' : {\n",
    "           'number' : 123,\n",
    "            'add':'UP',\n",
    "        0:'hello'\n",
    "    }\n",
    "}\n",
    "x"
   ]
  },
  {
   "cell_type": "code",
   "execution_count": 57,
   "id": "ba1c5cd2",
   "metadata": {},
   "outputs": [
    {
     "data": {
      "text/plain": [
       "{'name': 'Mohan',\n",
       " 'age': 34,\n",
       " 'salary': 34987,\n",
       " 0: 0,\n",
       " 'z': {'number': 123, 'add': 'UP', 0: 'hello', '1': '12367'}}"
      ]
     },
     "execution_count": 57,
     "metadata": {},
     "output_type": "execute_result"
    }
   ],
   "source": [
    "x = {\n",
    "    'name':'Mohan',\n",
    "    'age':34,\n",
    "    'salary':34987,\n",
    "    0:0,\n",
    "    \n",
    "    'z': {\n",
    "        'number' : 123,\n",
    "        'add':'UP',\n",
    "        0:'hello',\n",
    "        '1':1,\n",
    "        '1':'12367'\n",
    "    }\n",
    "}\n",
    "x"
   ]
  },
  {
   "cell_type": "code",
   "execution_count": 59,
   "id": "e8a79222",
   "metadata": {},
   "outputs": [
    {
     "data": {
      "text/plain": [
       "'hello'"
      ]
     },
     "execution_count": 59,
     "metadata": {},
     "output_type": "execute_result"
    }
   ],
   "source": [
    "x['z'][0]"
   ]
  },
  {
   "cell_type": "code",
   "execution_count": null,
   "id": "04813562",
   "metadata": {},
   "outputs": [],
   "source": [
    "# update\n"
   ]
  },
  {
   "cell_type": "code",
   "execution_count": 63,
   "id": "524ed57b",
   "metadata": {},
   "outputs": [
    {
     "name": "stdout",
     "output_type": "stream",
     "text": [
      "None\n"
     ]
    },
    {
     "data": {
      "text/plain": [
       "{'name': 'Rajat',\n",
       " 'age': 34,\n",
       " 'salary': 34987,\n",
       " 0: 0,\n",
       " 'z': {'number': 123, 'add': 'UP', 0: 'hello', '1': '12367'}}"
      ]
     },
     "execution_count": 63,
     "metadata": {},
     "output_type": "execute_result"
    }
   ],
   "source": [
    "print (x.update({\"name\":\"Rajat\"}))\n",
    "x\n"
   ]
  },
  {
   "cell_type": "code",
   "execution_count": 1,
   "id": "891f441f",
   "metadata": {},
   "outputs": [
    {
     "name": "stdout",
     "output_type": "stream",
     "text": [
      "{'name': 'mohan', 'age': 34}\n"
     ]
    }
   ],
   "source": [
    "d1={'name':'rohit','age':40}\n",
    "d1.update({'name':'mohan','age':34})\n",
    "               \n",
    "print(d1)\n"
   ]
  },
  {
   "cell_type": "code",
   "execution_count": 2,
   "id": "a47642de",
   "metadata": {},
   "outputs": [
    {
     "data": {
      "text/plain": [
       "{'name': 'raghav', 'age': 34, 'job': 'software engineer'}"
      ]
     },
     "execution_count": 2,
     "metadata": {},
     "output_type": "execute_result"
    }
   ],
   "source": [
    "a = {\n",
    "    'name':'raghav',\n",
    "    'age':34,\n",
    "    'job':'software engineer'\n",
    "    \n",
    "}\n",
    "a"
   ]
  },
  {
   "cell_type": "code",
   "execution_count": 3,
   "id": "21e8d520",
   "metadata": {},
   "outputs": [],
   "source": [
    "a.update({'name':'mohan','age':23,'job':'mechanical'})"
   ]
  },
  {
   "cell_type": "code",
   "execution_count": 4,
   "id": "73ae4d4d",
   "metadata": {},
   "outputs": [
    {
     "data": {
      "text/plain": [
       "{'name': 'mohan', 'age': 23, 'job': 'mechanical'}"
      ]
     },
     "execution_count": 4,
     "metadata": {},
     "output_type": "execute_result"
    }
   ],
   "source": [
    "a"
   ]
  },
  {
   "cell_type": "code",
   "execution_count": 9,
   "id": "f9a8fe46",
   "metadata": {},
   "outputs": [],
   "source": [
    "a.update({'salary':[2,89]})"
   ]
  },
  {
   "cell_type": "code",
   "execution_count": 10,
   "id": "982ba076",
   "metadata": {},
   "outputs": [
    {
     "data": {
      "text/plain": [
       "{'name': 'mohan', 'age': 23, 'job': 'mechanical', 'salary': [2, 89]}"
      ]
     },
     "execution_count": 10,
     "metadata": {},
     "output_type": "execute_result"
    }
   ],
   "source": [
    "a"
   ]
  },
  {
   "cell_type": "code",
   "execution_count": 28,
   "id": "85f2fec0",
   "metadata": {},
   "outputs": [
    {
     "data": {
      "text/plain": [
       "{'name': 'mohan', 'age': 20, 'job': 'mechanical', 'salary': [2000, 2000]}"
      ]
     },
     "execution_count": 28,
     "metadata": {},
     "output_type": "execute_result"
    }
   ],
   "source": [
    "a['age'] = 20\n",
    "a\n"
   ]
  },
  {
   "cell_type": "code",
   "execution_count": 29,
   "id": "cd8df0e8",
   "metadata": {},
   "outputs": [
    {
     "data": {
      "text/plain": [
       "dict"
      ]
     },
     "execution_count": 29,
     "metadata": {},
     "output_type": "execute_result"
    }
   ],
   "source": [
    "x = {}\n",
    "type(x)"
   ]
  },
  {
   "cell_type": "code",
   "execution_count": 33,
   "id": "f36a5a3f",
   "metadata": {},
   "outputs": [
    {
     "data": {
      "text/plain": [
       "dict"
      ]
     },
     "execution_count": 33,
     "metadata": {},
     "output_type": "execute_result"
    }
   ],
   "source": [
    "# single element dict...>\n",
    "x = {\n",
    "    'name':'mohan'\n",
    "}\n",
    "\n",
    "type(x)"
   ]
  },
  {
   "cell_type": "code",
   "execution_count": null,
   "id": "607556c8",
   "metadata": {},
   "outputs": [],
   "source": []
  }
 ],
 "metadata": {
  "kernelspec": {
   "display_name": "Python 3 (ipykernel)",
   "language": "python",
   "name": "python3"
  },
  "language_info": {
   "codemirror_mode": {
    "name": "ipython",
    "version": 3
   },
   "file_extension": ".py",
   "mimetype": "text/x-python",
   "name": "python",
   "nbconvert_exporter": "python",
   "pygments_lexer": "ipython3",
   "version": "3.9.7"
  }
 },
 "nbformat": 4,
 "nbformat_minor": 5
}
