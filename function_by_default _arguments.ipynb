{
 "cells": [
  {
   "cell_type": "code",
   "execution_count": 10,
   "id": "2e4f4502",
   "metadata": {},
   "outputs": [
    {
     "data": {
      "text/plain": [
       "'hello python '"
      ]
     },
     "execution_count": 10,
     "metadata": {},
     "output_type": "execute_result"
    }
   ],
   "source": [
    "#  wap to get the output of \"hello python\" \n",
    "# with the help of default argument function......>\n",
    "\n",
    "def de_fun(x , y = 'python '):\n",
    "#     x = 'hello'\n",
    "#     y = 'python'\n",
    "    result = x+y\n",
    "    return result \n",
    "de_fun( 'hello ')\n"
   ]
  },
  {
   "cell_type": "code",
   "execution_count": null,
   "id": "7e36e229",
   "metadata": {},
   "outputs": [],
   "source": []
  }
 ],
 "metadata": {
  "kernelspec": {
   "display_name": "Python 3 (ipykernel)",
   "language": "python",
   "name": "python3"
  },
  "language_info": {
   "codemirror_mode": {
    "name": "ipython",
    "version": 3
   },
   "file_extension": ".py",
   "mimetype": "text/x-python",
   "name": "python",
   "nbconvert_exporter": "python",
   "pygments_lexer": "ipython3",
   "version": "3.9.7"
  }
 },
 "nbformat": 4,
 "nbformat_minor": 5
}
