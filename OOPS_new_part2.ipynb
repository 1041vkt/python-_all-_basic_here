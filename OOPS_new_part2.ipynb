{
 "cells": [
  {
   "cell_type": "code",
   "execution_count": 2,
   "id": "27ff6b2c",
   "metadata": {},
   "outputs": [
    {
     "name": "stdout",
     "output_type": "stream",
     "text": [
      "The value of x is  1\n",
      "The value of y is 2\n"
     ]
    },
    {
     "data": {
      "text/plain": [
       "<__main__.add at 0x20195fae3a0>"
      ]
     },
     "execution_count": 2,
     "metadata": {},
     "output_type": "execute_result"
    }
   ],
   "source": [
    "# oops class defined // use of constructor..........>\n",
    "\n",
    "class add:\n",
    "    def __init__(self,x,y):\n",
    "        self.x = x\n",
    "        self.y = y\n",
    "        print(\"The value of x is \", x)\n",
    "        print(\"The value of y is\",y)\n",
    "        \n",
    "# x= add(1,2).\n",
    "add(1,2)\n"
   ]
  },
  {
   "cell_type": "code",
   "execution_count": 9,
   "id": "6395b520",
   "metadata": {},
   "outputs": [
    {
     "name": "stdout",
     "output_type": "stream",
     "text": [
      "The value of x is  1\n",
      "The value of y is 2\n",
      "Hello bhai mai constructor se pahle mil jaunga\n"
     ]
    }
   ],
   "source": [
    "class add:\n",
    "    \n",
    "    def hello(self):\n",
    "        \n",
    "        print(\"Hello bhai mai constructor se pahle mil jaunga\")\n",
    "        \n",
    "    def __init__(self,x,y):\n",
    "        \n",
    "        self.x = x\n",
    "        self.y = y\n",
    "        print(\"The value of x is \", x)\n",
    "        print(\"The value of y is\",y)\n",
    "        \n",
    "x = add(1,2)\n",
    "x.hello()\n"
   ]
  },
  {
   "cell_type": "code",
   "execution_count": 10,
   "id": "212987af",
   "metadata": {},
   "outputs": [
    {
     "name": "stdout",
     "output_type": "stream",
     "text": [
      "The employee name is.........>  MOHIT\n",
      "The employee salary is.........>  32000\n",
      "The employee age is.........>  32\n"
     ]
    },
    {
     "data": {
      "text/plain": [
       "<__main__.emp at 0x201960ae190>"
      ]
     },
     "execution_count": 10,
     "metadata": {},
     "output_type": "execute_result"
    }
   ],
   "source": [
    "# wap to make a class of emp having properties name,age & salary and\n",
    "# try to get the output of teh data with the help of constructor\n",
    "class emp:\n",
    "    def __init__(self,name,age,salary):\n",
    "        self.name = name\n",
    "        self.age = age\n",
    "        self.salary = salary\n",
    "        print(\"The employee name is.........> \" ,name)\n",
    "        print(\"The employee salary is.........> \" ,salary)\n",
    "        print(\"The employee age is.........> \" ,age)\n",
    "        \n",
    "emp(\"MOHIT\",32,32000)        "
   ]
  },
  {
   "cell_type": "code",
   "execution_count": 15,
   "id": "795d6868",
   "metadata": {},
   "outputs": [
    {
     "name": "stdout",
     "output_type": "stream",
     "text": [
      "MOHIT 32 32000\n"
     ]
    }
   ],
   "source": [
    "class emp:\n",
    "    \n",
    "    def __init__(self,name,age,salary):\n",
    "        self.name = name\n",
    "        self.age = age\n",
    "        self.salary = salary\n",
    "        \n",
    "    def details_emp(self):\n",
    "        \n",
    "        print(self.name,self.age,self.salary)\n",
    "        \n",
    "       \n",
    "a = emp(\"MOHIT\",32,32000)\n",
    "a.details_emp()"
   ]
  },
  {
   "cell_type": "code",
   "execution_count": 24,
   "id": "f436f815",
   "metadata": {},
   "outputs": [
    {
     "name": "stdout",
     "output_type": "stream",
     "text": [
      "A 32 3200\n",
      "Avg salary is----> 26.0\n"
     ]
    }
   ],
   "source": [
    "# wap and  make a class of emp having proprties of name ,age & salary and \n",
    "# try get the output of the data with the help of constructor,  \n",
    "# also find the avg of salary of amp.....>\n",
    "\n",
    "class emp:\n",
    "    \n",
    "    def __init__(self ,name,age,salary):\n",
    "        \n",
    "        self.name= name\n",
    "        self.age = age\n",
    "        self.salary = salary\n",
    "        \n",
    "        \n",
    "    \n",
    "    def avg_salary(self,s1,s2,s3):\n",
    "        \n",
    "        sal = (s1+s2+s3)/3\n",
    "        print(self.name,self.age,self.salary)\n",
    "        print(\"Avg salary is---->\",sal)\n",
    "        \n",
    "        \n",
    "a = emp(\"A\",32,3200)\n",
    "a.avg_salary(12,23,43)\n",
    "        \n",
    "        "
   ]
  },
  {
   "cell_type": "code",
   "execution_count": 30,
   "id": "9cf07795",
   "metadata": {},
   "outputs": [
    {
     "name": "stdout",
     "output_type": "stream",
     "text": [
      "Tax is  400000.0\n",
      "Discount is  140000.0\n",
      "last payable car price 2260000.0\n"
     ]
    }
   ],
   "source": [
    "# wap to make a class of automobile and try to calculate the price of the car if the car is of 20 lakh\n",
    "# then you have pay to the tax 20%.\n",
    "# and the showroom give the discout of 7% on your purchase,\n",
    "# so try to find the actual cost of the car with the help of the constructor........>>\n",
    "\n",
    "\n",
    "class automobile:\n",
    "    \n",
    "    def __init__(self,car,price):\n",
    "        \n",
    "        self.car = car\n",
    "        self.price = price\n",
    "        \n",
    "    def car_price(self,total_price):\n",
    "        \n",
    "        if total_price >= 2000000:\n",
    "            \n",
    "            tax = (total_price*20)/100\n",
    "            print(\"Tax is \" ,tax)\n",
    "            \n",
    "        discount = (total_price*7)/100\n",
    "        print(\"Discount is \" ,discount)\n",
    "        \n",
    "        whole_price = total_price + tax - discount\n",
    "        print(\"last payable car price\",whole_price)\n",
    "        \n",
    "a = automobile(\"maruti\",2000000)\n",
    "a.car_price(2000000)\n",
    "        "
   ]
  },
  {
   "cell_type": "code",
   "execution_count": null,
   "id": "e4f5c651",
   "metadata": {},
   "outputs": [],
   "source": [
    "class automoile:\n",
    "    "
   ]
  },
  {
   "cell_type": "code",
   "execution_count": 1,
   "id": "cfc872eb",
   "metadata": {},
   "outputs": [
    {
     "name": "stdout",
     "output_type": "stream",
     "text": [
      "The final price of the car is ----> 2260000.0\n"
     ]
    }
   ],
   "source": [
    "#wap to make a class of automobile and try to calculate \n",
    "# the price of the\n",
    "# car if the car is of 20 lakh then you have to pay \n",
    "# the tax of 20%,\n",
    "# and the showroom give a discount of 7% on your \n",
    "# purchase,so try to \n",
    "# find the actual cost of the car with the help \n",
    "# of constructor??\n",
    "\n",
    "class automobile:\n",
    "    def __init__(self,price,tax,discount):\n",
    "        self.price=price\n",
    "        self.tax=tax\n",
    "        self.discount =discount\n",
    "        \n",
    "    def car_price(self):\n",
    "        actual_tax = self.tax-self.discount\n",
    "        tax_price = (self.price *  actual_tax)/100\n",
    "        final_car_price = tax_price+self.price\n",
    "        print(\"The final price of the car is ---->\",final_car_price)\n",
    "        \n",
    "        \n",
    "a = automobile(2000000,20,7)\n",
    "a.car_price()"
   ]
  },
  {
   "cell_type": "code",
   "execution_count": null,
   "id": "03faab9a",
   "metadata": {},
   "outputs": [],
   "source": []
  },
  {
   "cell_type": "code",
   "execution_count": null,
   "id": "dd4bd3e4",
   "metadata": {},
   "outputs": [],
   "source": []
  }
 ],
 "metadata": {
  "kernelspec": {
   "display_name": "Python 3 (ipykernel)",
   "language": "python",
   "name": "python3"
  },
  "language_info": {
   "codemirror_mode": {
    "name": "ipython",
    "version": 3
   },
   "file_extension": ".py",
   "mimetype": "text/x-python",
   "name": "python",
   "nbconvert_exporter": "python",
   "pygments_lexer": "ipython3",
   "version": "3.9.7"
  }
 },
 "nbformat": 4,
 "nbformat_minor": 5
}
