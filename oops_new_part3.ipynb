{
 "cells": [
  {
   "cell_type": "code",
   "execution_count": 2,
   "id": "d0de5cda",
   "metadata": {},
   "outputs": [
    {
     "name": "stdout",
     "output_type": "stream",
     "text": [
      "A 34\n"
     ]
    }
   ],
   "source": [
    "# inheritance.......single level inheritance.........>\n",
    "class parent:\n",
    "    def __init__(self,name):\n",
    "        \n",
    "        self.name = name\n",
    "        \n",
    "class child(parent):\n",
    "    def __init__(self,name,age):\n",
    "        self.age = age\n",
    "        self.name = name\n",
    "        \n",
    "        print(name,age)\n",
    "        \n",
    "c = child('A',34)        "
   ]
  },
  {
   "cell_type": "code",
   "execution_count": 10,
   "id": "7744c9fe",
   "metadata": {},
   "outputs": [],
   "source": [
    "class parent:\n",
    "    def __init__(self,name):\n",
    "        self.name = name\n",
    "        \n",
    "class child(parent):\n",
    "    def __init__(self,name,age):\n",
    "        parent.__init__(self,name)\n",
    "        self.age = age\n",
    "#         print(name,age)\n",
    "        \n",
    "c= child(\"A\",34)        "
   ]
  },
  {
   "cell_type": "code",
   "execution_count": 7,
   "id": "f3cc401f",
   "metadata": {},
   "outputs": [
    {
     "data": {
      "text/plain": [
       "'A'"
      ]
     },
     "execution_count": 7,
     "metadata": {},
     "output_type": "execute_result"
    }
   ],
   "source": [
    "c.name"
   ]
  },
  {
   "cell_type": "code",
   "execution_count": 5,
   "id": "873e5e04",
   "metadata": {},
   "outputs": [
    {
     "data": {
      "text/plain": [
       "34"
      ]
     },
     "execution_count": 5,
     "metadata": {},
     "output_type": "execute_result"
    }
   ],
   "source": [
    "c.age"
   ]
  },
  {
   "cell_type": "code",
   "execution_count": 9,
   "id": "226b881f",
   "metadata": {},
   "outputs": [
    {
     "data": {
      "text/plain": [
       "('A', 34)"
      ]
     },
     "execution_count": 9,
     "metadata": {},
     "output_type": "execute_result"
    }
   ],
   "source": [
    "c.name,c.age"
   ]
  },
  {
   "cell_type": "code",
   "execution_count": 12,
   "id": "ef20f772",
   "metadata": {},
   "outputs": [],
   "source": [
    "class parent:\n",
    "    def __init__(self,name):\n",
    "        self.name = name\n",
    "        \n",
    "class child(parent):\n",
    "    def __init__(self,name,age):\n",
    "        super().__init__(name)\n",
    "        self.age = age\n",
    "\n",
    "        \n",
    "c= child(\"B\",340)        "
   ]
  },
  {
   "cell_type": "code",
   "execution_count": 13,
   "id": "26e02c13",
   "metadata": {},
   "outputs": [
    {
     "data": {
      "text/plain": [
       "'B'"
      ]
     },
     "execution_count": 13,
     "metadata": {},
     "output_type": "execute_result"
    }
   ],
   "source": [
    "c.name"
   ]
  },
  {
   "cell_type": "code",
   "execution_count": 14,
   "id": "b61fa150",
   "metadata": {},
   "outputs": [
    {
     "data": {
      "text/plain": [
       "340"
      ]
     },
     "execution_count": 14,
     "metadata": {},
     "output_type": "execute_result"
    }
   ],
   "source": [
    "c.age"
   ]
  },
  {
   "cell_type": "code",
   "execution_count": 16,
   "id": "8c9ec0f3",
   "metadata": {},
   "outputs": [
    {
     "name": "stdout",
     "output_type": "stream",
     "text": [
      "car2 is best 230\n"
     ]
    }
   ],
   "source": [
    "# wap to inherit car1 class from car2 class and try\n",
    "# to find the best car wrt to milage/average...>\n",
    "\n",
    "class car1:\n",
    "    def __init__(self,car1_avg):\n",
    "        self.car1_avg = car1_avg\n",
    "        \n",
    "        \n",
    "class car2(car1):\n",
    "    \n",
    "    def __init__(self,car1_avg,car2_avg):\n",
    "        self.car2_avg = car2_avg\n",
    "        \n",
    "        super().__init__(car1_avg)\n",
    "        if car1_avg > car2_avg:\n",
    "            print(\"car1 is best\",car1_avg)\n",
    "        else:\n",
    "            print(\"car2 is best\", car2_avg)\n",
    "            \n",
    "        \n",
    "c = car2(120,230)        "
   ]
  },
  {
   "cell_type": "code",
   "execution_count": 18,
   "id": "98bce4b0",
   "metadata": {},
   "outputs": [
    {
     "name": "stdout",
     "output_type": "stream",
     "text": [
      "car1 is best average car 76km/hrs\n"
     ]
    }
   ],
   "source": [
    "class car1():\n",
    "    def __init__(self,name,colour,avg1):\n",
    "        self.name = name\n",
    "        self.colour = colour\n",
    "        self.avg1 = avg1\n",
    "        \n",
    "class car2(car1):\n",
    "    def __init__(self,name,colour,avg1,avg2):\n",
    "        \n",
    "        self.avg2 = avg2\n",
    "        super().__init__(name,colour,avg1)\n",
    "        \n",
    "        if avg1>avg2:\n",
    "            \n",
    "            print(\"car1 is best average car\",avg1)\n",
    "        else:\n",
    "            print(\"car2 is best average car\",avg2)\n",
    "            \n",
    "x = car2(\"ciaz\",\"blue\",'76km/hrs','45km/hrs')            \n",
    "    "
   ]
  },
  {
   "cell_type": "code",
   "execution_count": 19,
   "id": "f760c42a",
   "metadata": {},
   "outputs": [],
   "source": [
    "# multi-level inheritance.......>\n",
    "\n",
    "# first type...........>\n",
    "\n",
    "class gpc:\n",
    "    def __init__(self,name):\n",
    "        self.name = name\n",
    "        \n",
    "class parent(gpc):\n",
    "    def __init__(self,name,age):\n",
    "        self.age = age\n",
    "        super().__init__(name)\n",
    "        \n",
    "class child:\n",
    "    def __init__(self,gender):\n",
    "        self.gender  = gender\n",
    "        \n",
    "        \n",
    "p = parent(\"Vikash\",21)    "
   ]
  },
  {
   "cell_type": "code",
   "execution_count": 20,
   "id": "ecfe97a0",
   "metadata": {},
   "outputs": [
    {
     "data": {
      "text/plain": [
       "'Vikash'"
      ]
     },
     "execution_count": 20,
     "metadata": {},
     "output_type": "execute_result"
    }
   ],
   "source": [
    "p.name"
   ]
  },
  {
   "cell_type": "code",
   "execution_count": 21,
   "id": "fb9c206a",
   "metadata": {},
   "outputs": [
    {
     "data": {
      "text/plain": [
       "21"
      ]
     },
     "execution_count": 21,
     "metadata": {},
     "output_type": "execute_result"
    }
   ],
   "source": [
    "p.age"
   ]
  },
  {
   "cell_type": "code",
   "execution_count": 6,
   "id": "ccb74668",
   "metadata": {},
   "outputs": [],
   "source": [
    "# second type.....>\n",
    "\n",
    "# multi-level inheitance.....>\n",
    "\n",
    "class gpc:\n",
    "    def __init__(self,name):\n",
    "        self.name = name\n",
    "        \n",
    "class parent(gpc):\n",
    "    def __init__(self,name,age):\n",
    "        self.age = age\n",
    "        super().__init__(name)\n",
    "        \n",
    "        \n",
    "class child(gpc):\n",
    "    def __init__(self,name,gender):\n",
    "        self.gender  = gender\n",
    "        super().__init__(name)\n",
    "        \n",
    "        \n",
    "p = child(\"Vikash\",\"M\") "
   ]
  },
  {
   "cell_type": "code",
   "execution_count": 4,
   "id": "0d21337d",
   "metadata": {},
   "outputs": [
    {
     "data": {
      "text/plain": [
       "'Vikash'"
      ]
     },
     "execution_count": 4,
     "metadata": {},
     "output_type": "execute_result"
    }
   ],
   "source": [
    "p.name"
   ]
  },
  {
   "cell_type": "code",
   "execution_count": 5,
   "id": "5931ef7c",
   "metadata": {},
   "outputs": [
    {
     "data": {
      "text/plain": [
       "'M'"
      ]
     },
     "execution_count": 5,
     "metadata": {},
     "output_type": "execute_result"
    }
   ],
   "source": [
    "p.gender"
   ]
  },
  {
   "cell_type": "code",
   "execution_count": 7,
   "id": "89261bc4",
   "metadata": {},
   "outputs": [],
   "source": [
    "# multi-level inheritance......>\n",
    "\n",
    "# third type..........\n",
    "\n",
    "class gpc:\n",
    "    def __init__(self,name):\n",
    "        self.name = name\n",
    "        \n",
    "class parent(gpc):\n",
    "    def __init__(self,age):\n",
    "        self.age = age\n",
    "        \n",
    "class child(parent):\n",
    "    def __init__(self,age,gender):\n",
    "        self.gender = gender\n",
    "        super().__init__(age)\n",
    "    \n",
    "p = child(43,'M')"
   ]
  },
  {
   "cell_type": "code",
   "execution_count": 8,
   "id": "8189cdd4",
   "metadata": {},
   "outputs": [
    {
     "data": {
      "text/plain": [
       "43"
      ]
     },
     "execution_count": 8,
     "metadata": {},
     "output_type": "execute_result"
    }
   ],
   "source": [
    "p.age"
   ]
  },
  {
   "cell_type": "code",
   "execution_count": 9,
   "id": "5b979b26",
   "metadata": {},
   "outputs": [
    {
     "data": {
      "text/plain": [
       "'M'"
      ]
     },
     "execution_count": 9,
     "metadata": {},
     "output_type": "execute_result"
    }
   ],
   "source": [
    "p.gender"
   ]
  },
  {
   "cell_type": "code",
   "execution_count": 26,
   "id": "ebee6af3",
   "metadata": {},
   "outputs": [
    {
     "ename": "TypeError",
     "evalue": "__init__() takes 4 positional arguments but 5 were given",
     "output_type": "error",
     "traceback": [
      "\u001b[1;31m---------------------------------------------------------------------------\u001b[0m",
      "\u001b[1;31mTypeError\u001b[0m                                 Traceback (most recent call last)",
      "\u001b[1;32mC:\\Users\\VIKASH~1\\AppData\\Local\\Temp/ipykernel_1564/3484440148.py\u001b[0m in \u001b[0;36m<module>\u001b[1;34m\u001b[0m\n\u001b[0;32m     17\u001b[0m \u001b[1;33m\u001b[0m\u001b[0m\n\u001b[0;32m     18\u001b[0m \u001b[1;33m\u001b[0m\u001b[0m\n\u001b[1;32m---> 19\u001b[1;33m \u001b[0ma\u001b[0m \u001b[1;33m=\u001b[0m \u001b[0mstudent3\u001b[0m\u001b[1;33m(\u001b[0m\u001b[1;36m23\u001b[0m\u001b[1;33m,\u001b[0m\u001b[1;36m34\u001b[0m\u001b[1;33m,\u001b[0m\u001b[1;36m45\u001b[0m\u001b[1;33m,\u001b[0m\u001b[1;36m12\u001b[0m\u001b[1;33m)\u001b[0m\u001b[1;33m\u001b[0m\u001b[1;33m\u001b[0m\u001b[0m\n\u001b[0m",
      "\u001b[1;31mTypeError\u001b[0m: __init__() takes 4 positional arguments but 5 were given"
     ]
    }
   ],
   "source": [
    "class student1:\n",
    "    def __init__(self,sub1,sub2,sub3,avg_marks):\n",
    "        self.sub1 = sub1\n",
    "        self.sub2 = sub2\n",
    "        self.sub3 = sub3\n",
    "        self.avg_marks = avg_marks\n",
    "        \n",
    "class student2(student1):\n",
    "    def __init__(self,sub1,sub2,sub3):\n",
    "        total_marks = (sub1+sub2+sub3)\n",
    "        avg_marks = total_marks/3\n",
    "        super().__init__(sub1,sub2,sub3)\n",
    "        \n",
    "class student3(student2):\n",
    "    def __init__(self,sub1,sub2,sub3):\n",
    "        super().__init__(sub1,sub2,sub3)\n",
    "        \n",
    "        \n",
    "a = student3(23,34,45,12)        "
   ]
  },
  {
   "cell_type": "code",
   "execution_count": null,
   "id": "29da5bae",
   "metadata": {},
   "outputs": [],
   "source": []
  },
  {
   "cell_type": "code",
   "execution_count": null,
   "id": "1ffbf05d",
   "metadata": {},
   "outputs": [],
   "source": []
  },
  {
   "cell_type": "code",
   "execution_count": null,
   "id": "5249b2ec",
   "metadata": {},
   "outputs": [],
   "source": []
  },
  {
   "cell_type": "code",
   "execution_count": null,
   "id": "83066776",
   "metadata": {},
   "outputs": [],
   "source": []
  },
  {
   "cell_type": "code",
   "execution_count": null,
   "id": "9d1e9ba6",
   "metadata": {},
   "outputs": [],
   "source": []
  },
  {
   "cell_type": "code",
   "execution_count": null,
   "id": "72c2738c",
   "metadata": {},
   "outputs": [],
   "source": []
  },
  {
   "cell_type": "code",
   "execution_count": null,
   "id": "6e60c590",
   "metadata": {},
   "outputs": [],
   "source": []
  }
 ],
 "metadata": {
  "kernelspec": {
   "display_name": "Python 3 (ipykernel)",
   "language": "python",
   "name": "python3"
  },
  "language_info": {
   "codemirror_mode": {
    "name": "ipython",
    "version": 3
   },
   "file_extension": ".py",
   "mimetype": "text/x-python",
   "name": "python",
   "nbconvert_exporter": "python",
   "pygments_lexer": "ipython3",
   "version": "3.9.7"
  }
 },
 "nbformat": 4,
 "nbformat_minor": 5
}
