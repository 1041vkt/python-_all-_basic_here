{
 "cells": [
  {
   "cell_type": "code",
   "execution_count": 1,
   "id": "27e14482",
   "metadata": {},
   "outputs": [],
   "source": [
    "def function_name():\n",
    "    print(\"kya haal hai bhai!!\")\n",
    "    "
   ]
  },
  {
   "cell_type": "code",
   "execution_count": 2,
   "id": "941a64cb",
   "metadata": {},
   "outputs": [
    {
     "name": "stdout",
     "output_type": "stream",
     "text": [
      "kya haal hai bhai!!\n"
     ]
    }
   ],
   "source": [
    "function_name()"
   ]
  },
  {
   "cell_type": "code",
   "execution_count": null,
   "id": "dc4a6a38",
   "metadata": {},
   "outputs": [],
   "source": [
    "# steps--------> define the steps !!\n",
    "\n",
    "\n",
    "# no arg no return\n",
    "# with arg no return\n",
    "# with arg with return\n",
    "# no arg with return\n",
    "\n"
   ]
  },
  {
   "cell_type": "code",
   "execution_count": 1,
   "id": "5032b239",
   "metadata": {},
   "outputs": [],
   "source": [
    "# no arg no return..>\n",
    "\n",
    "def add():\n",
    "    a = 23\n",
    "    b = 4\n",
    "    c = a+b\n",
    "    print(c)\n",
    "    "
   ]
  },
  {
   "cell_type": "code",
   "execution_count": 2,
   "id": "6eade4ca",
   "metadata": {},
   "outputs": [
    {
     "name": "stdout",
     "output_type": "stream",
     "text": [
      "27\n"
     ]
    }
   ],
   "source": [
    "add()"
   ]
  },
  {
   "cell_type": "code",
   "execution_count": 4,
   "id": "d913846c",
   "metadata": {},
   "outputs": [],
   "source": [
    "# with arg no return....>\n",
    "def add(a,b):\n",
    "    result = a+b\n",
    "    print(result)\n",
    "        "
   ]
  },
  {
   "cell_type": "code",
   "execution_count": 6,
   "id": "f102f79d",
   "metadata": {},
   "outputs": [
    {
     "name": "stdout",
     "output_type": "stream",
     "text": [
      "5\n"
     ]
    }
   ],
   "source": [
    "add(2,3)"
   ]
  },
  {
   "cell_type": "code",
   "execution_count": 7,
   "id": "a4b52ee0",
   "metadata": {},
   "outputs": [],
   "source": [
    "#  with arg with return...>\n",
    "\n",
    "def add(a,b):\n",
    "    result = a+b\n",
    "    return result"
   ]
  },
  {
   "cell_type": "code",
   "execution_count": 9,
   "id": "7d6146b1",
   "metadata": {},
   "outputs": [
    {
     "data": {
      "text/plain": [
       "10"
      ]
     },
     "execution_count": 9,
     "metadata": {},
     "output_type": "execute_result"
    }
   ],
   "source": [
    "add(6,4)"
   ]
  },
  {
   "cell_type": "code",
   "execution_count": 19,
   "id": "8d2ec479",
   "metadata": {},
   "outputs": [],
   "source": [
    "# diff....> return &print\n",
    "def add(x,y):\n",
    "    result = x+y\n",
    "    return result"
   ]
  },
  {
   "cell_type": "code",
   "execution_count": 20,
   "id": "48fc907f",
   "metadata": {},
   "outputs": [
    {
     "data": {
      "text/plain": [
       "5"
      ]
     },
     "execution_count": 20,
     "metadata": {},
     "output_type": "execute_result"
    }
   ],
   "source": [
    "add(2,3)"
   ]
  },
  {
   "cell_type": "code",
   "execution_count": 21,
   "id": "c13851aa",
   "metadata": {},
   "outputs": [],
   "source": [
    "#  no arg with return...>\n",
    "\n",
    "def add():\n",
    "    a = 2\n",
    "    b = 3\n",
    "    c = a+b\n",
    "    return c\n",
    "\n"
   ]
  },
  {
   "cell_type": "code",
   "execution_count": 22,
   "id": "bee06121",
   "metadata": {},
   "outputs": [
    {
     "data": {
      "text/plain": [
       "5"
      ]
     },
     "execution_count": 22,
     "metadata": {},
     "output_type": "execute_result"
    }
   ],
   "source": [
    "add()"
   ]
  },
  {
   "cell_type": "code",
   "execution_count": null,
   "id": "98e9b295",
   "metadata": {},
   "outputs": [],
   "source": [
    "#wap to find max no. from three numbers using function.\n",
    "#wap to find min no. from three numbers using function.\n",
    "#Wap to sum all number present in a list.\n",
    "#wap to check a string is reversed or not?\n",
    "#Wap to find odd number using function\n",
    "#wap to find even no. using function.\n",
    "# Write a function to check a string is palindrome or not?\n",
    "#Wap to sum the first 10 natural numbers using function?\n",
    "\n",
    "# Wap to calculate the percentage of 5 students??\n",
    "\n",
    "# Wap to find out the average cost of 5 quantity each\n",
    "# quantity is having the value of 80 and if the value exceed by\n",
    "# avg value then also calculate the total price of whole quantity\n",
    "# avg value => 350\n",
    "\n",
    "# Wap to find the area and circumference of circle and also try to find\n",
    "# if this circle is going to be square or not?\n",
    "\n",
    "# Calculate the total area of a land having l=20 b=30.If the land\n",
    "# is greater than 100sq fit then also calculate the cost of \n",
    "# remaining land. Price of land is 20000K.\n",
    "\n",
    "# Wap to find out the average cost of 5 quantity each\n",
    "# quantity is having the value of 80 and if the value exceed by\n",
    "# avg value then also calculate the total price of whole quantity\n",
    "# avg value => 350\n"
   ]
  },
  {
   "cell_type": "code",
   "execution_count": 24,
   "id": "0a89f03d",
   "metadata": {},
   "outputs": [],
   "source": [
    "#wap to find max no. from three numbers using function.\n",
    "\n",
    "def max_no(a,b,c):\n",
    "    if a>b and b>c:\n",
    "        print(\"a is max\",a)\n",
    "    elif b>a and b>c:\n",
    "        print(\"b is max\" ,b)\n",
    "    elif c>a and c>b:\n",
    "        print(\"c ix max\" ,c)\n",
    "        \n",
    "    \n",
    "max_no(2,50,3)    "
   ]
  },
  {
   "cell_type": "markdown",
   "id": "15f56d4a",
   "metadata": {},
   "source": [
    "max_no(2,50,3)"
   ]
  },
  {
   "cell_type": "code",
   "execution_count": 25,
   "id": "413f917c",
   "metadata": {},
   "outputs": [
    {
     "name": "stdout",
     "output_type": "stream",
     "text": [
      "b is max 34\n"
     ]
    }
   ],
   "source": [
    "max_no(2,34,1)"
   ]
  },
  {
   "cell_type": "code",
   "execution_count": 5,
   "id": "b241a9a1",
   "metadata": {},
   "outputs": [],
   "source": [
    "#wap to find min no. from three numbers using function.\n",
    "\n",
    "def min_no(a,b,c):\n",
    "    if a<b and a<c:\n",
    "        print(\"a is min\", a)\n",
    "    elif b<a and b<c:\n",
    "        print(\"b is min \", b)\n",
    "    elif c<a and c<b:\n",
    "        print(\"c is min\", c)\n",
    "min_no(2,20,10)                "
   ]
  },
  {
   "cell_type": "code",
   "execution_count": 7,
   "id": "e9ea3af2",
   "metadata": {},
   "outputs": [
    {
     "name": "stdout",
     "output_type": "stream",
     "text": [
      "a is min 2\n"
     ]
    }
   ],
   "source": [
    "min_no(2,20,10)"
   ]
  },
  {
   "cell_type": "code",
   "execution_count": 13,
   "id": "b3231291",
   "metadata": {},
   "outputs": [
    {
     "name": "stdout",
     "output_type": "stream",
     "text": [
      "sum of all list numbers : 23\n"
     ]
    }
   ],
   "source": [
    "#Wap to sum all number present in a list.\n",
    "\n",
    "def sum():\n",
    "    a = [2,3,4,4,5,5,]\n",
    "    sum = 0\n",
    "    for i in a:\n",
    "        sum = sum+i\n",
    "    print(\"sum of all list numbers :\", sum)\n",
    "sum()    "
   ]
  },
  {
   "cell_type": "code",
   "execution_count": 21,
   "id": "eedad711",
   "metadata": {},
   "outputs": [
    {
     "ename": "TypeError",
     "evalue": "unsupported operand type(s) for /: 'list' and 'str'",
     "output_type": "error",
     "traceback": [
      "\u001b[1;31m---------------------------------------------------------------------------\u001b[0m",
      "\u001b[1;31mTypeError\u001b[0m                                 Traceback (most recent call last)",
      "\u001b[1;32mC:\\Users\\VIKASH~1\\AppData\\Local\\Temp/ipykernel_3632/631811722.py\u001b[0m in \u001b[0;36m<module>\u001b[1;34m\u001b[0m\n\u001b[0;32m      8\u001b[0m         \u001b[1;32melse\u001b[0m\u001b[1;33m:\u001b[0m\u001b[1;33m\u001b[0m\u001b[1;33m\u001b[0m\u001b[0m\n\u001b[0;32m      9\u001b[0m             \u001b[0mprint\u001b[0m\u001b[1;33m(\u001b[0m\u001b[1;34m\"not reverse\"\u001b[0m\u001b[1;33m)\u001b[0m\u001b[1;33m\u001b[0m\u001b[1;33m\u001b[0m\u001b[0m\n\u001b[1;32m---> 10\u001b[1;33m \u001b[0mreverse\u001b[0m\u001b[1;33m(\u001b[0m\u001b[1;33m)\u001b[0m\u001b[1;33m\u001b[0m\u001b[1;33m\u001b[0m\u001b[0m\n\u001b[0m",
      "\u001b[1;32mC:\\Users\\VIKASH~1\\AppData\\Local\\Temp/ipykernel_3632/631811722.py\u001b[0m in \u001b[0;36mreverse\u001b[1;34m()\u001b[0m\n\u001b[0;32m      4\u001b[0m     \u001b[0ma\u001b[0m \u001b[1;33m=\u001b[0m \u001b[1;33m[\u001b[0m\u001b[1;34m\"RAM\"\u001b[0m\u001b[1;33m]\u001b[0m\u001b[1;33m\u001b[0m\u001b[1;33m\u001b[0m\u001b[0m\n\u001b[0;32m      5\u001b[0m     \u001b[1;32mfor\u001b[0m \u001b[0mi\u001b[0m \u001b[1;32min\u001b[0m \u001b[0ma\u001b[0m\u001b[1;33m:\u001b[0m\u001b[1;33m\u001b[0m\u001b[1;33m\u001b[0m\u001b[0m\n\u001b[1;32m----> 6\u001b[1;33m         \u001b[1;32mif\u001b[0m \u001b[0ma\u001b[0m\u001b[1;33m/\u001b[0m\u001b[0mi\u001b[0m \u001b[1;33m==\u001b[0m \u001b[1;36m0\u001b[0m\u001b[1;33m:\u001b[0m\u001b[1;33m\u001b[0m\u001b[1;33m\u001b[0m\u001b[0m\n\u001b[0m\u001b[0;32m      7\u001b[0m             \u001b[0mprint\u001b[0m\u001b[1;33m(\u001b[0m\u001b[1;34m\"reverse\"\u001b[0m\u001b[1;33m)\u001b[0m\u001b[1;33m\u001b[0m\u001b[1;33m\u001b[0m\u001b[0m\n\u001b[0;32m      8\u001b[0m         \u001b[1;32melse\u001b[0m\u001b[1;33m:\u001b[0m\u001b[1;33m\u001b[0m\u001b[1;33m\u001b[0m\u001b[0m\n",
      "\u001b[1;31mTypeError\u001b[0m: unsupported operand type(s) for /: 'list' and 'str'"
     ]
    }
   ],
   "source": [
    "#wap to check a string is reversed or not?\n",
    "\n",
    "def reverse():\n",
    "    a = [\"RAM\"]\n",
    "    for i in a:\n",
    "        if a/i == 0:\n",
    "            print(\"reverse\")\n",
    "        else:\n",
    "            print(\"not reverse\")\n",
    "reverse()            "
   ]
  },
  {
   "cell_type": "code",
   "execution_count": 33,
   "id": "cc85b2ea",
   "metadata": {},
   "outputs": [
    {
     "name": "stdout",
     "output_type": "stream",
     "text": [
      "odd number : 5\n"
     ]
    }
   ],
   "source": [
    "#Wap to find odd number using function.....>\n",
    "\n",
    "def odd_no(a):\n",
    "#     a = 4\n",
    "    if a%2 != 0:\n",
    "        print(\"odd number :\" , a)\n",
    "    else:\n",
    "        print(\"NOT ODD number : \", a)\n",
    "        \n",
    "odd_no(5)        "
   ]
  },
  {
   "cell_type": "code",
   "execution_count": 31,
   "id": "a9308f55",
   "metadata": {},
   "outputs": [
    {
     "name": "stdout",
     "output_type": "stream",
     "text": [
      "not even number : 3\n"
     ]
    }
   ],
   "source": [
    "#wap to find even no. using function....>\n",
    "\n",
    "def even_no(a):\n",
    "#     a = 24\n",
    "    if a%2 == 0:\n",
    "        print(\"even number : \", a)\n",
    "    else :\n",
    "        print(\"not even number :\" ,a)\n",
    "        \n",
    "even_no(3)        "
   ]
  },
  {
   "cell_type": "code",
   "execution_count": 60,
   "id": "0d26d0ce",
   "metadata": {},
   "outputs": [
    {
     "name": "stdout",
     "output_type": "stream",
     "text": [
      "not palindrome : 89\n"
     ]
    }
   ],
   "source": [
    "# Write a function to check a string is palindrome or not?........>\n",
    "\n",
    "def palindrome_no():\n",
    "    a = 89\n",
    "    a1 = a\n",
    "    y = 0\n",
    "    for i in range (a,a+1):\n",
    "        k = a%10\n",
    "        x = a//10\n",
    "        y = 10*y+k\n",
    "        if (y == a1):\n",
    "            print(\"palindrome :\", a)\n",
    "        else:\n",
    "            print(\"not palindrome :\", a)\n",
    "palindrome_no()   "
   ]
  },
  {
   "cell_type": "code",
   "execution_count": 14,
   "id": "22eb122b",
   "metadata": {},
   "outputs": [
    {
     "name": "stdout",
     "output_type": "stream",
     "text": [
      "sum : 55\n"
     ]
    }
   ],
   "source": [
    "#Wap to sum the first 10 natural numbers using function?..........>\n",
    "\n",
    "def sum():\n",
    "    sum = 0\n",
    "    for i in range (1,11):\n",
    "        sum = i + sum\n",
    "    print(\"sum :\" , sum)\n",
    "        \n",
    "sum()    "
   ]
  },
  {
   "cell_type": "code",
   "execution_count": 31,
   "id": "59e1a55e",
   "metadata": {},
   "outputs": [
    {
     "name": "stdout",
     "output_type": "stream",
     "text": [
      "per_std1 : 34.0\n",
      "per_std2 : 54.0\n",
      "per_std3 : 67.0\n",
      "per_std4 : 78.0\n",
      "per_std5 : 98.0\n"
     ]
    }
   ],
   "source": [
    "# Wap to calculate the percentage of 5 students??....>\n",
    "\n",
    "def per_of_std(a,b,c,d,e):\n",
    "    total_marks = 100\n",
    "#     marks_scored = 35\n",
    "    per_std1 = (a/total_marks)*100\n",
    "    print(\"per_std1 :\" , per_std1)\n",
    "    \n",
    "    per_std2 = (b/total_marks)*100\n",
    "    print(\"per_std2 :\" ,per_std2)\n",
    "    \n",
    "    per_std3 = (c/total_marks)*100\n",
    "    print(\"per_std3 :\" , per_std3)\n",
    "    \n",
    "    per_std4 = (d/total_marks)*100\n",
    "    print(\"per_std4 :\" , per_std4)\n",
    "    \n",
    "    per_std5 = (e/total_marks)*100\n",
    "    print(\"per_std5 :\" , per_std5)\n",
    "    \n",
    "per_of_std(34,54,67,78,98)    "
   ]
  },
  {
   "cell_type": "code",
   "execution_count": null,
   "id": "cc4c9e3d",
   "metadata": {},
   "outputs": [],
   "source": [
    "# Wap to find out the average cost of 5 quantity each...........>\n",
    "# quantity is having the value of 80 and if the value exceed by\n",
    "# avg value then also calculate the total price of whole quantity\n",
    "# avg value => 350\n",
    "\n",
    "def avg_cost():\n",
    "    \n",
    "    \n",
    "    "
   ]
  },
  {
   "cell_type": "code",
   "execution_count": 4,
   "id": "8af08742",
   "metadata": {},
   "outputs": [],
   "source": [
    "#  palindrome.........>\n",
    "\n",
    "\n",
    "def palindrome():\n",
    "    a = 'abc'\n",
    "    b = ''\n",
    "    for i in a:\n",
    "        b = i +b\n",
    "    if a == b:\n",
    "        print(\"palindrome\")\n",
    "    else:\n",
    "        print(\"not palindrome\")\n"
   ]
  },
  {
   "cell_type": "code",
   "execution_count": 5,
   "id": "aa60b317",
   "metadata": {},
   "outputs": [
    {
     "name": "stdout",
     "output_type": "stream",
     "text": [
      "not palindrome\n"
     ]
    }
   ],
   "source": [
    "palindrome()"
   ]
  },
  {
   "cell_type": "code",
   "execution_count": 11,
   "id": "00f90ced",
   "metadata": {},
   "outputs": [],
   "source": [
    "#  palindrome..........>\n",
    "\n",
    "\n",
    "x = 'nitin'\n",
    "y = ''\n",
    "def palindrome(x,y):\n",
    "    for i in x:\n",
    "        y = i + y\n",
    "    if x == y:\n",
    "        print(y = \" is palindrome\")\n",
    "    else:\n",
    "        print(y = \" is not palindrome\")    "
   ]
  },
  {
   "cell_type": "code",
   "execution_count": 7,
   "id": "e1ccaba2",
   "metadata": {},
   "outputs": [
    {
     "name": "stdout",
     "output_type": "stream",
     "text": [
      "smam  is not palindrome\n"
     ]
    }
   ],
   "source": [
    "palindrome(x,y)"
   ]
  },
  {
   "cell_type": "code",
   "execution_count": 15,
   "id": "74bb10ad",
   "metadata": {},
   "outputs": [
    {
     "ename": "IndentationError",
     "evalue": "expected an indented block (Temp/ipykernel_9856/3664442291.py, line 7)",
     "output_type": "error",
     "traceback": [
      "\u001b[1;36m  File \u001b[1;32m\"C:\\Users\\VIKASH~1\\AppData\\Local\\Temp/ipykernel_9856/3664442291.py\"\u001b[1;36m, line \u001b[1;32m7\u001b[0m\n\u001b[1;33m    \u001b[0m\n\u001b[1;37m    ^\u001b[0m\n\u001b[1;31mIndentationError\u001b[0m\u001b[1;31m:\u001b[0m expected an indented block\n"
     ]
    }
   ],
   "source": [
    "a = 2\n",
    "b = 3\n",
    "c = 4\n",
    "def per(a,b,c):\n",
    "    \n",
    "    \n",
    "    "
   ]
  },
  {
   "cell_type": "code",
   "execution_count": null,
   "id": "217e3e48",
   "metadata": {},
   "outputs": [],
   "source": []
  },
  {
   "cell_type": "code",
   "execution_count": null,
   "id": "c0ca8e5c",
   "metadata": {},
   "outputs": [],
   "source": []
  },
  {
   "cell_type": "code",
   "execution_count": null,
   "id": "5cb0813e",
   "metadata": {},
   "outputs": [],
   "source": []
  },
  {
   "cell_type": "code",
   "execution_count": null,
   "id": "75e7a87a",
   "metadata": {},
   "outputs": [],
   "source": []
  }
 ],
 "metadata": {
  "kernelspec": {
   "display_name": "Python 3 (ipykernel)",
   "language": "python",
   "name": "python3"
  },
  "language_info": {
   "codemirror_mode": {
    "name": "ipython",
    "version": 3
   },
   "file_extension": ".py",
   "mimetype": "text/x-python",
   "name": "python",
   "nbconvert_exporter": "python",
   "pygments_lexer": "ipython3",
   "version": "3.9.7"
  }
 },
 "nbformat": 4,
 "nbformat_minor": 5
}
