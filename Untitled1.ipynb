{
 "cells": [
  {
   "cell_type": "code",
   "execution_count": 1,
   "id": "807c3c83",
   "metadata": {},
   "outputs": [
    {
     "name": "stdout",
     "output_type": "stream",
     "text": [
      "Hello World\n"
     ]
    }
   ],
   "source": [
    "print(\"Hello World\")"
   ]
  },
  {
   "cell_type": "code",
   "execution_count": 2,
   "id": "e95d87e7",
   "metadata": {},
   "outputs": [
    {
     "name": "stdout",
     "output_type": "stream",
     "text": [
      "123\n"
     ]
    }
   ],
   "source": [
    "print(123)"
   ]
  },
  {
   "cell_type": "code",
   "execution_count": 3,
   "id": "5d1ac71e",
   "metadata": {},
   "outputs": [
    {
     "name": "stdout",
     "output_type": "stream",
     "text": [
      "Ram1234\n"
     ]
    }
   ],
   "source": [
    "print('Ram1234')"
   ]
  },
  {
   "cell_type": "code",
   "execution_count": 4,
   "id": "7cd771fc",
   "metadata": {},
   "outputs": [
    {
     "name": "stdout",
     "output_type": "stream",
     "text": [
      "vikash tiwari @#1231041\n"
     ]
    }
   ],
   "source": [
    "print('vikash tiwari @#1231041')"
   ]
  },
  {
   "cell_type": "code",
   "execution_count": 5,
   "id": "9ab79c46",
   "metadata": {},
   "outputs": [
    {
     "ename": "NameError",
     "evalue": "name 'vikashtiwari1041' is not defined",
     "output_type": "error",
     "traceback": [
      "\u001b[1;31m---------------------------------------------------------------------------\u001b[0m",
      "\u001b[1;31mNameError\u001b[0m                                 Traceback (most recent call last)",
      "\u001b[1;32mC:\\Users\\VIKASH~1\\AppData\\Local\\Temp/ipykernel_16880/2271680106.py\u001b[0m in \u001b[0;36m<module>\u001b[1;34m\u001b[0m\n\u001b[1;32m----> 1\u001b[1;33m \u001b[0mprint\u001b[0m\u001b[1;33m(\u001b[0m\u001b[0mvikashtiwari1041\u001b[0m\u001b[1;33m)\u001b[0m\u001b[1;33m\u001b[0m\u001b[1;33m\u001b[0m\u001b[0m\n\u001b[0m",
      "\u001b[1;31mNameError\u001b[0m: name 'vikashtiwari1041' is not defined"
     ]
    }
   ],
   "source": [
    "print(vikashtiwari1041)"
   ]
  },
  {
   "cell_type": "code",
   "execution_count": 6,
   "id": "62dae80c",
   "metadata": {},
   "outputs": [
    {
     "ename": "NameError",
     "evalue": "name 'Ram' is not defined",
     "output_type": "error",
     "traceback": [
      "\u001b[1;31m---------------------------------------------------------------------------\u001b[0m",
      "\u001b[1;31mNameError\u001b[0m                                 Traceback (most recent call last)",
      "\u001b[1;32mC:\\Users\\VIKASH~1\\AppData\\Local\\Temp/ipykernel_16880/1144054391.py\u001b[0m in \u001b[0;36m<module>\u001b[1;34m\u001b[0m\n\u001b[1;32m----> 1\u001b[1;33m \u001b[0mprint\u001b[0m\u001b[1;33m(\u001b[0m\u001b[0mRam\u001b[0m\u001b[1;33m)\u001b[0m\u001b[1;33m\u001b[0m\u001b[1;33m\u001b[0m\u001b[0m\n\u001b[0m",
      "\u001b[1;31mNameError\u001b[0m: name 'Ram' is not defined"
     ]
    }
   ],
   "source": [
    "print(Ram)"
   ]
  },
  {
   "cell_type": "code",
   "execution_count": 7,
   "id": "8065e6df",
   "metadata": {},
   "outputs": [
    {
     "name": "stdout",
     "output_type": "stream",
     "text": [
      "10\n"
     ]
    }
   ],
   "source": [
    "a=10\n",
    "print(a)"
   ]
  },
  {
   "cell_type": "code",
   "execution_count": 8,
   "id": "4958eec8",
   "metadata": {},
   "outputs": [
    {
     "data": {
      "text/plain": [
       "int"
      ]
     },
     "execution_count": 8,
     "metadata": {},
     "output_type": "execute_result"
    }
   ],
   "source": [
    "type(a)"
   ]
  },
  {
   "cell_type": "code",
   "execution_count": 12,
   "id": "1d973f4a",
   "metadata": {},
   "outputs": [
    {
     "name": "stdout",
     "output_type": "stream",
     "text": [
      "Vikash Tiwari\n"
     ]
    }
   ],
   "source": [
    "a='Vikash Tiwari'\n",
    "print(a)"
   ]
  },
  {
   "cell_type": "code",
   "execution_count": 13,
   "id": "c4b235fe",
   "metadata": {},
   "outputs": [
    {
     "data": {
      "text/plain": [
       "str"
      ]
     },
     "execution_count": 13,
     "metadata": {},
     "output_type": "execute_result"
    }
   ],
   "source": [
    "type(a)"
   ]
  },
  {
   "cell_type": "code",
   "execution_count": 14,
   "id": "443a1c9a",
   "metadata": {},
   "outputs": [
    {
     "name": "stdout",
     "output_type": "stream",
     "text": [
      "123.7863\n"
     ]
    }
   ],
   "source": [
    "a=123.7863\n",
    "print(a)"
   ]
  },
  {
   "cell_type": "code",
   "execution_count": 15,
   "id": "26d9be71",
   "metadata": {},
   "outputs": [
    {
     "data": {
      "text/plain": [
       "float"
      ]
     },
     "execution_count": 15,
     "metadata": {},
     "output_type": "execute_result"
    }
   ],
   "source": [
    "type(a)"
   ]
  },
  {
   "cell_type": "code",
   "execution_count": 16,
   "id": "2f700c2d",
   "metadata": {},
   "outputs": [
    {
     "name": "stdout",
     "output_type": "stream",
     "text": [
      "False\n"
     ]
    }
   ],
   "source": [
    "a=False\n",
    "print(a)"
   ]
  },
  {
   "cell_type": "code",
   "execution_count": 17,
   "id": "22271fac",
   "metadata": {},
   "outputs": [
    {
     "data": {
      "text/plain": [
       "bool"
      ]
     },
     "execution_count": 17,
     "metadata": {},
     "output_type": "execute_result"
    }
   ],
   "source": [
    "type(a)"
   ]
  },
  {
   "cell_type": "code",
   "execution_count": 18,
   "id": "8f201654",
   "metadata": {},
   "outputs": [
    {
     "name": "stdout",
     "output_type": "stream",
     "text": [
      "(2+3j)\n"
     ]
    }
   ],
   "source": [
    "a=2+3j\n",
    "print(a)"
   ]
  },
  {
   "cell_type": "code",
   "execution_count": 19,
   "id": "91b0699f",
   "metadata": {},
   "outputs": [
    {
     "data": {
      "text/plain": [
       "complex"
      ]
     },
     "execution_count": 19,
     "metadata": {},
     "output_type": "execute_result"
    }
   ],
   "source": [
    "type(a)"
   ]
  },
  {
   "cell_type": "code",
   "execution_count": 22,
   "id": "18fd2b96",
   "metadata": {},
   "outputs": [
    {
     "name": "stdout",
     "output_type": "stream",
     "text": [
      "5\n"
     ]
    }
   ],
   "source": [
    "a=2\n",
    "b=3\n",
    "c=a+b\n",
    "print(c)"
   ]
  },
  {
   "cell_type": "code",
   "execution_count": 23,
   "id": "86e2832a",
   "metadata": {},
   "outputs": [
    {
     "data": {
      "text/plain": [
       "int"
      ]
     },
     "execution_count": 23,
     "metadata": {},
     "output_type": "execute_result"
    }
   ],
   "source": [
    "type(c)"
   ]
  },
  {
   "cell_type": "code",
   "execution_count": 26,
   "id": "43b83759",
   "metadata": {},
   "outputs": [
    {
     "name": "stdout",
     "output_type": "stream",
     "text": [
      "3\n"
     ]
    }
   ],
   "source": [
    "a=15\n",
    "b=4\n",
    "c=a//b\n",
    "print(c)"
   ]
  },
  {
   "cell_type": "code",
   "execution_count": 27,
   "id": "3ce3a7a0",
   "metadata": {},
   "outputs": [
    {
     "name": "stdout",
     "output_type": "stream",
     "text": [
      "5\n"
     ]
    }
   ],
   "source": [
    "a=89\n",
    "b=21\n",
    "c=a%b\n",
    "print(c)"
   ]
  },
  {
   "cell_type": "code",
   "execution_count": 28,
   "id": "c0a7ebd2",
   "metadata": {},
   "outputs": [
    {
     "data": {
      "text/plain": [
       "int"
      ]
     },
     "execution_count": 28,
     "metadata": {},
     "output_type": "execute_result"
    }
   ],
   "source": [
    "type(c)"
   ]
  },
  {
   "cell_type": "code",
   "execution_count": 32,
   "id": "e481fbcd",
   "metadata": {},
   "outputs": [
    {
     "name": "stdout",
     "output_type": "stream",
     "text": [
      "10 12\n",
      "12 10\n"
     ]
    }
   ],
   "source": [
    "#write a program to swap two variable with using the third variable.\n",
    "a=10\n",
    "b=12\n",
    "print(a,b)\n",
    "c=a\n",
    "a=b\n",
    "b=c\n",
    "print(a,b)"
   ]
  },
  {
   "cell_type": "code",
   "execution_count": 33,
   "id": "2dd5c40a",
   "metadata": {},
   "outputs": [
    {
     "name": "stdout",
     "output_type": "stream",
     "text": [
      "10 20\n",
      "20 10\n"
     ]
    }
   ],
   "source": [
    "#write a python program to swap two numbers without using third variable.\n",
    "a=10\n",
    "b=20\n",
    "print(a,b)\n",
    "a,b=b,a\n",
    "print(a,b)"
   ]
  },
  {
   "cell_type": "code",
   "execution_count": 34,
   "id": "5481937b",
   "metadata": {},
   "outputs": [
    {
     "name": "stdout",
     "output_type": "stream",
     "text": [
      "10\n",
      "5\n"
     ]
    }
   ],
   "source": [
    "a,b=10,5\n",
    "print(a)\n",
    "print(b)"
   ]
  },
  {
   "cell_type": "code",
   "execution_count": 39,
   "id": "c82c91be",
   "metadata": {},
   "outputs": [
    {
     "name": "stdout",
     "output_type": "stream",
     "text": [
      "a+b = 32\n",
      "a-b = -8\n",
      "a//b = 0\n",
      "a*b = 240\n"
     ]
    }
   ],
   "source": [
    "#a program to add ,substract,dividion,multiplication two numbers.\n",
    "a=12\n",
    "b=20\n",
    "#ADD\n",
    "c=a+b\n",
    "d=a-b\n",
    "e=a//b\n",
    "f=a*b\n",
    "print(\"a+b =\",c)\n",
    "print(\"a-b =\",d)\n",
    "print(\"a//b =\",e)\n",
    "print(\"a*b =\",f)"
   ]
  },
  {
   "cell_type": "code",
   "execution_count": 43,
   "id": "22fb9d1a",
   "metadata": {},
   "outputs": [
    {
     "name": "stdout",
     "output_type": "stream",
     "text": [
      "ENTER THE FIRST NUMBER =10\n",
      "ENTER THE SECOND NUMBER =10\n",
      "20\n"
     ]
    }
   ],
   "source": [
    "# WRITE A PROGRAM TO ADD TWO NUMBER WITH THE GELP OF USER INPUT.\n",
    "x=input(\"ENTER THE FIRST NUMBER =\")\n",
    "y=input(\"ENTER THE SECOND NUMBER =\")\n",
    "z=int(x)+int(y)\n",
    "print(z)"
   ]
  },
  {
   "cell_type": "code",
   "execution_count": null,
   "id": "615b94e4",
   "metadata": {},
   "outputs": [],
   "source": []
  },
  {
   "cell_type": "code",
   "execution_count": 46,
   "id": "65d47f93",
   "metadata": {},
   "outputs": [
    {
     "name": "stdout",
     "output_type": "stream",
     "text": [
      "ENTER THE FIRST NUMBER =123\n",
      "ENTER THE SECOND NUMBER =xyz\n",
      "123xyz\n"
     ]
    }
   ],
   "source": [
    "# WRITE A PROGRAM TO ADD TWO NUMBER WITH THE GELP OF USER INPUT.\n",
    "x=input(\"ENTER THE FIRST NUMBER =\")\n",
    "y=input(\"ENTER THE SECOND NUMBER =\")\n",
    "z=(x)+(y)\n",
    "print(z)"
   ]
  },
  {
   "cell_type": "code",
   "execution_count": null,
   "id": "8ce9e385",
   "metadata": {},
   "outputs": [],
   "source": []
  },
  {
   "cell_type": "code",
   "execution_count": 46,
   "id": "fd978a83",
   "metadata": {},
   "outputs": [
    {
     "name": "stdout",
     "output_type": "stream",
     "text": [
      "ENTER THE FIRST NUMBER =123\n",
      "ENTER THE SECOND NUMBER =xyz\n",
      "123xyz\n"
     ]
    }
   ],
   "source": [
    "# WRITE A PROGRAM TO ADD TWO NUMBER WITH THE GELP OF USER INPUT.\n",
    "x=input(\"ENTER THE FIRST NUMBER =\")\n",
    "y=input(\"ENTER THE SECOND NUMBER =\")\n",
    "z=(x)+(y)\n",
    "print(z)"
   ]
  },
  {
   "cell_type": "code",
   "execution_count": 47,
   "id": "e6b86930",
   "metadata": {},
   "outputs": [
    {
     "name": "stdout",
     "output_type": "stream",
     "text": [
      "ENTER THE FIRST NUMBER =5\n",
      "ENTER THE SECOND NUMBER =5\n",
      "10.0\n"
     ]
    }
   ],
   "source": [
    "#wap to add two number type- int,type- float.\n",
    "# of user input\n",
    "a=int(input(\"ENTER THE FIRST NUMBER =\"))\n",
    "b=float(input(\"ENTER THE SECOND NUMBER =\"))\n",
    "c=a+b\n",
    "print(c)"
   ]
  },
  {
   "cell_type": "code",
   "execution_count": null,
   "id": "5507764a",
   "metadata": {},
   "outputs": [],
   "source": []
  },
  {
   "cell_type": "code",
   "execution_count": 49,
   "id": "eb3b492a",
   "metadata": {},
   "outputs": [
    {
     "name": "stdout",
     "output_type": "stream",
     "text": [
      "ENTER THE INTEZER NUMBER =12\n",
      "ENTER THE FLOAT NUMBER =20.50\n",
      "32.5\n"
     ]
    }
   ],
   "source": [
    "#wap to add two number type- int,type- float.\n",
    "# of user input\n",
    "a=input(\"ENTER THE INTEZER NUMBER =\")\n",
    "b=input(\"ENTER THE FLOAT NUMBER =\")\n",
    "c=int(a)+float(b)\n",
    "print(c)"
   ]
  },
  {
   "cell_type": "code",
   "execution_count": 52,
   "id": "d4334d9e",
   "metadata": {},
   "outputs": [
    {
     "name": "stdout",
     "output_type": "stream",
     "text": [
      "adult\n"
     ]
    }
   ],
   "source": [
    "# IF statement\n",
    "age=20\n",
    "if age>=20:\n",
    "    print('adult')\n",
    "else:\n",
    "    print('child')"
   ]
  },
  {
   "cell_type": "code",
   "execution_count": 54,
   "id": "b5460e88",
   "metadata": {},
   "outputs": [
    {
     "name": "stdout",
     "output_type": "stream",
     "text": [
      "A IS greatest\n"
     ]
    }
   ],
   "source": [
    "#wap to find the greatest number among 3 numbers.\n",
    "a=100\n",
    "b=20\n",
    "c=10\n",
    "if a>b and a>c:\n",
    "    print('A IS greatest')\n",
    "elif b>a and b>c:\n",
    "    print('B is greatest')\n",
    "else :\n",
    "    print('C is greatest')"
   ]
  },
  {
   "cell_type": "code",
   "execution_count": 3,
   "id": "51014b9e",
   "metadata": {},
   "outputs": [
    {
     "name": "stdout",
     "output_type": "stream",
     "text": [
      "C is greatest\n"
     ]
    }
   ],
   "source": [
    "# wap to find greatest number among 4 numbers.\n",
    "a=122\n",
    "b=1000\n",
    "c=2000\n",
    "d=8\n",
    "if a>b and a>c and a>d:\n",
    "    print('A is greatest')\n",
    "elif b>a and b>c and b>d:\n",
    "    print('B is greatest')\n",
    "elif c>a and c>b and c>d:\n",
    "    print('C is greatest')\n",
    "else:\n",
    "    ('D is greatest')"
   ]
  },
  {
   "cell_type": "code",
   "execution_count": 8,
   "id": "fa1e1fca",
   "metadata": {},
   "outputs": [
    {
     "name": "stdout",
     "output_type": "stream",
     "text": [
      "Enter your name raghav\n",
      "Enter your age9\n",
      "sorry\n"
     ]
    }
   ],
   "source": [
    "user_name = input('Enter your name ')\n",
    "age = int(input('Enter your age'))\n",
    "if age>10:\n",
    "    print('you can watch coco')\n",
    "else:\n",
    "    print('sorry')"
   ]
  },
  {
   "cell_type": "code",
   "execution_count": null,
   "id": "b8c1e74c",
   "metadata": {},
   "outputs": [],
   "source": []
  },
  {
   "cell_type": "code",
   "execution_count": null,
   "id": "5380d57c",
   "metadata": {},
   "outputs": [],
   "source": []
  }
 ],
 "metadata": {
  "kernelspec": {
   "display_name": "Python 3 (ipykernel)",
   "language": "python",
   "name": "python3"
  },
  "language_info": {
   "codemirror_mode": {
    "name": "ipython",
    "version": 3
   },
   "file_extension": ".py",
   "mimetype": "text/x-python",
   "name": "python",
   "nbconvert_exporter": "python",
   "pygments_lexer": "ipython3",
   "version": "3.9.7"
  }
 },
 "nbformat": 4,
 "nbformat_minor": 5
}
